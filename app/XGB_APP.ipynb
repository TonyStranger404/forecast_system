{
 "cells": [
  {
   "cell_type": "code",
   "execution_count": 1,
   "id": "initial_id",
   "metadata": {
    "collapsed": true,
    "ExecuteTime": {
     "end_time": "2025-06-02T14:47:32.971256400Z",
     "start_time": "2025-06-02T14:47:15.411930700Z"
    }
   },
   "outputs": [],
   "source": [
    "import pandas as pd\n",
    "import numpy as np\n",
    "from xgboost import XGBRegressor\n",
    "from sklearn.model_selection import GridSearchCV, TimeSeriesSplit\n",
    "from sklearn.metrics import mean_absolute_error, make_scorer\n",
    "import matplotlib.pyplot as plt\n",
    "from joblib import Parallel, delayed\n",
    "import joblib\n",
    "import os"
   ]
  },
  {
   "cell_type": "code",
   "outputs": [
    {
     "data": {
      "text/plain": "      Territory_code Plant_code Brand_code  Package Week_End_Date  \\\n0                  A          a         AC   TP 0.2    2023-01-06   \n1                  A          a         AC   TP 0.2    2023-01-13   \n2                  A          a         AC   TP 0.2    2023-01-20   \n3                  A          a         AC   TP 0.2    2023-01-27   \n4                  A          a         AC   TP 0.2    2023-02-03   \n...              ...        ...        ...      ...           ...   \n58305              I         an         AD  PET 1.0    2024-11-29   \n58306              I         an         AD  PET 1.0    2024-12-06   \n58307              I         an         AD  PET 1.0    2024-12-13   \n58308              I         an         AD  PET 1.0    2024-12-20   \n58309              I         an         AD  PET 1.0    2024-12-27   \n\n       Sum of Plan        fact           row_id  \n0         1.000000    0.010000    A_a_AC_TP 0.2  \n1         1.000000    4.010000    A_a_AC_TP 0.2  \n2        61.000000    6.010000    A_a_AC_TP 0.2  \n3         0.000000    8.010000    A_a_AC_TP 0.2  \n4        18.879000    9.520000    A_a_AC_TP 0.2  \n...            ...         ...              ...  \n58305    54.766687   78.192999  I_an_AD_PET 1.0  \n58306    65.133425  171.193998  I_an_AD_PET 1.0  \n58307    59.458602   46.503001  I_an_AD_PET 1.0  \n58308    77.697035    8.463000  I_an_AD_PET 1.0  \n58309    38.618049    0.010000  I_an_AD_PET 1.0  \n\n[58310 rows x 8 columns]",
      "text/html": "<div>\n<style scoped>\n    .dataframe tbody tr th:only-of-type {\n        vertical-align: middle;\n    }\n\n    .dataframe tbody tr th {\n        vertical-align: top;\n    }\n\n    .dataframe thead th {\n        text-align: right;\n    }\n</style>\n<table border=\"1\" class=\"dataframe\">\n  <thead>\n    <tr style=\"text-align: right;\">\n      <th></th>\n      <th>Territory_code</th>\n      <th>Plant_code</th>\n      <th>Brand_code</th>\n      <th>Package</th>\n      <th>Week_End_Date</th>\n      <th>Sum of Plan</th>\n      <th>fact</th>\n      <th>row_id</th>\n    </tr>\n  </thead>\n  <tbody>\n    <tr>\n      <th>0</th>\n      <td>A</td>\n      <td>a</td>\n      <td>AC</td>\n      <td>TP 0.2</td>\n      <td>2023-01-06</td>\n      <td>1.000000</td>\n      <td>0.010000</td>\n      <td>A_a_AC_TP 0.2</td>\n    </tr>\n    <tr>\n      <th>1</th>\n      <td>A</td>\n      <td>a</td>\n      <td>AC</td>\n      <td>TP 0.2</td>\n      <td>2023-01-13</td>\n      <td>1.000000</td>\n      <td>4.010000</td>\n      <td>A_a_AC_TP 0.2</td>\n    </tr>\n    <tr>\n      <th>2</th>\n      <td>A</td>\n      <td>a</td>\n      <td>AC</td>\n      <td>TP 0.2</td>\n      <td>2023-01-20</td>\n      <td>61.000000</td>\n      <td>6.010000</td>\n      <td>A_a_AC_TP 0.2</td>\n    </tr>\n    <tr>\n      <th>3</th>\n      <td>A</td>\n      <td>a</td>\n      <td>AC</td>\n      <td>TP 0.2</td>\n      <td>2023-01-27</td>\n      <td>0.000000</td>\n      <td>8.010000</td>\n      <td>A_a_AC_TP 0.2</td>\n    </tr>\n    <tr>\n      <th>4</th>\n      <td>A</td>\n      <td>a</td>\n      <td>AC</td>\n      <td>TP 0.2</td>\n      <td>2023-02-03</td>\n      <td>18.879000</td>\n      <td>9.520000</td>\n      <td>A_a_AC_TP 0.2</td>\n    </tr>\n    <tr>\n      <th>...</th>\n      <td>...</td>\n      <td>...</td>\n      <td>...</td>\n      <td>...</td>\n      <td>...</td>\n      <td>...</td>\n      <td>...</td>\n      <td>...</td>\n    </tr>\n    <tr>\n      <th>58305</th>\n      <td>I</td>\n      <td>an</td>\n      <td>AD</td>\n      <td>PET 1.0</td>\n      <td>2024-11-29</td>\n      <td>54.766687</td>\n      <td>78.192999</td>\n      <td>I_an_AD_PET 1.0</td>\n    </tr>\n    <tr>\n      <th>58306</th>\n      <td>I</td>\n      <td>an</td>\n      <td>AD</td>\n      <td>PET 1.0</td>\n      <td>2024-12-06</td>\n      <td>65.133425</td>\n      <td>171.193998</td>\n      <td>I_an_AD_PET 1.0</td>\n    </tr>\n    <tr>\n      <th>58307</th>\n      <td>I</td>\n      <td>an</td>\n      <td>AD</td>\n      <td>PET 1.0</td>\n      <td>2024-12-13</td>\n      <td>59.458602</td>\n      <td>46.503001</td>\n      <td>I_an_AD_PET 1.0</td>\n    </tr>\n    <tr>\n      <th>58308</th>\n      <td>I</td>\n      <td>an</td>\n      <td>AD</td>\n      <td>PET 1.0</td>\n      <td>2024-12-20</td>\n      <td>77.697035</td>\n      <td>8.463000</td>\n      <td>I_an_AD_PET 1.0</td>\n    </tr>\n    <tr>\n      <th>58309</th>\n      <td>I</td>\n      <td>an</td>\n      <td>AD</td>\n      <td>PET 1.0</td>\n      <td>2024-12-27</td>\n      <td>38.618049</td>\n      <td>0.010000</td>\n      <td>I_an_AD_PET 1.0</td>\n    </tr>\n  </tbody>\n</table>\n<p>58310 rows × 8 columns</p>\n</div>"
     },
     "execution_count": 2,
     "metadata": {},
     "output_type": "execute_result"
    }
   ],
   "source": [
    "df = pd.read_csv('DF_FINAL.csv')\n",
    "df['Week_End_Date'] = pd.to_datetime(df['Week_End_Date'])\n",
    "df"
   ],
   "metadata": {
    "collapsed": false,
    "ExecuteTime": {
     "end_time": "2025-06-02T14:52:54.147092200Z",
     "start_time": "2025-06-02T14:52:53.370357600Z"
    }
   },
   "id": "a32b118aa4184dc2",
   "execution_count": 2
  },
  {
   "cell_type": "code",
   "outputs": [],
   "source": [
    "EPSILON = 1e-5  # Для избежания деления на 0"
   ],
   "metadata": {
    "collapsed": false,
    "ExecuteTime": {
     "end_time": "2025-06-02T14:52:55.644956400Z",
     "start_time": "2025-06-02T14:52:55.626440100Z"
    }
   },
   "id": "6c472488cdbb6293",
   "execution_count": 3
  },
  {
   "cell_type": "code",
   "outputs": [],
   "source": [
    "def create_features(df_row: pd.DataFrame) -> pd.DataFrame:\n",
    "    df_row = df_row.sort_values('Week_End_Date').copy()\n",
    "\n",
    "    # Временные признаки\n",
    "    df_row['week_number'] = df_row['Week_End_Date'].dt.isocalendar().week\n",
    "    df_row['month'] = df_row['Week_End_Date'].dt.month\n",
    "    df_row['quarter'] = df_row['Week_End_Date'].dt.quarter\n",
    "\n",
    "    # Лаги fact\n",
    "    for lag in [1, 2, 3, 4, 5, 7]:\n",
    "        df_row[f'lag_{lag}'] = df_row['fact'].shift(lag)\n",
    "\n",
    "    # Скользящие средние и std\n",
    "    for window in [3, 5, 7]:\n",
    "        df_row[f'rolling_mean_{window}'] = df_row['fact'].rolling(window).mean()\n",
    "        df_row[f'rolling_std_{window}'] = df_row['fact'].rolling(window).std()\n",
    "\n",
    "    # Трендовые признаки\n",
    "    df_row['trend_3'] = df_row['fact'] - df_row['fact'].shift(3)\n",
    "    df_row['momentum'] = (df_row['fact'] - df_row['fact'].shift(1)) / \\\n",
    "                         (df_row['fact'].shift(2) - df_row['fact'].shift(3) + 1e-5)\n",
    "\n",
    "    # Удаление строк с NaN после лагов и rolling\n",
    "    df_row.dropna(inplace=True)\n",
    "\n",
    "    return df_row"
   ],
   "metadata": {
    "collapsed": false,
    "ExecuteTime": {
     "end_time": "2025-06-02T14:52:57.391525800Z",
     "start_time": "2025-06-02T14:52:57.371382500Z"
    }
   },
   "id": "efcbeba75b169c6",
   "execution_count": 4
  },
  {
   "cell_type": "code",
   "outputs": [
    {
     "name": "stderr",
     "output_type": "stream",
     "text": [
      "C:\\Users\\Anton\\AppData\\Local\\Temp\\ipykernel_26280\\2806616002.py:2: DeprecationWarning: DataFrameGroupBy.apply operated on the grouping columns. This behavior is deprecated, and in a future version of pandas the grouping columns will be excluded from the operation. Either pass `include_groups=False` to exclude the groupings or explicitly select the grouping columns after groupby to silence this warning.\n",
      "  features_df = df.groupby('row_id').apply(create_features).reset_index(drop=True)\n"
     ]
    },
    {
     "data": {
      "text/plain": "      Territory_code Plant_code Brand_code  Package Week_End_Date  \\\n0                  A          a         AC   TP 0.2    2023-02-24   \n1                  A          a         AC   TP 0.2    2023-03-03   \n2                  A          a         AC   TP 0.2    2023-03-10   \n3                  A          a         AC   TP 0.2    2023-03-17   \n4                  A          a         AC   TP 0.2    2023-03-24   \n...              ...        ...        ...      ...           ...   \n54091              I         an         AD  PET 1.0    2024-11-29   \n54092              I         an         AD  PET 1.0    2024-12-06   \n54093              I         an         AD  PET 1.0    2024-12-13   \n54094              I         an         AD  PET 1.0    2024-12-20   \n54095              I         an         AD  PET 1.0    2024-12-27   \n\n       Sum of Plan        fact           row_id  week_number  month  ...  \\\n0         9.123000   47.560000    A_a_AC_TP 0.2            8      2  ...   \n1        70.298003    2.863000    A_a_AC_TP 0.2            9      3  ...   \n2         0.165000    1.912000    A_a_AC_TP 0.2           10      3  ...   \n3         0.196000    1.912000    A_a_AC_TP 0.2           11      3  ...   \n4         0.196000    1.912000    A_a_AC_TP 0.2           12      3  ...   \n...            ...         ...              ...          ...    ...  ...   \n54091    54.766687   78.192999  I_an_AD_PET 1.0           48     11  ...   \n54092    65.133425  171.193998  I_an_AD_PET 1.0           49     12  ...   \n54093    59.458602   46.503001  I_an_AD_PET 1.0           50     12  ...   \n54094    77.697035    8.463000  I_an_AD_PET 1.0           51     12  ...   \n54095    38.618049    0.010000  I_an_AD_PET 1.0           52     12  ...   \n\n            lag_5  lag_7  rolling_mean_3  rolling_std_3  rolling_mean_5  \\\n0        6.010000  0.010       71.970332      55.097398       46.688199   \n1        8.010000  4.010       27.906000      22.830603       45.658799   \n2        9.520000  6.010       17.445000      26.084690       44.137199   \n3      135.055995  8.010        2.229000       0.549060       17.508400   \n4       33.294999  9.520        1.912000       0.000000       11.231800   \n...           ...    ...             ...            ...             ...   \n54091    2.123000  0.010       53.542334      46.408603       32.129400   \n54092    0.010000  0.010      110.603666      52.515394       66.366200   \n54093    0.010000  2.123       98.629999      64.809061       75.664800   \n54094    0.010000  0.010       75.386666      85.123698       77.355400   \n54095   82.424002  0.010       18.325334      24.765884       60.872600   \n\n       rolling_std_5  rolling_mean_7  rolling_std_7     trend_3       momentum  \n0          52.121213       34.780142      47.169933   38.040000       0.113633  \n1          53.117394       34.616285      47.296458 -132.192996       0.439235  \n2          54.502347       34.030856      47.732905  -31.382999      -0.066667  \n3          21.524977       33.159714      48.338744  -45.648000      -0.000000  \n4          20.312256       32.072856      49.039303   -0.951000      -0.000000  \n...              ...             ...            ...         ...            ...  \n54091      44.006732       23.254286      39.002214   78.182999 -423100.376129  \n54092      71.050834       47.709143      66.189900  171.183998       1.128461  \n54093      62.753417       54.049143      63.151414  -35.921001      29.470853  \n54094      60.270449       55.256714      62.016485  -69.729999      -0.409028  \n54095      69.152575       55.256714      62.016485 -171.183998       0.067792  \n\n[54096 rows x 25 columns]",
      "text/html": "<div>\n<style scoped>\n    .dataframe tbody tr th:only-of-type {\n        vertical-align: middle;\n    }\n\n    .dataframe tbody tr th {\n        vertical-align: top;\n    }\n\n    .dataframe thead th {\n        text-align: right;\n    }\n</style>\n<table border=\"1\" class=\"dataframe\">\n  <thead>\n    <tr style=\"text-align: right;\">\n      <th></th>\n      <th>Territory_code</th>\n      <th>Plant_code</th>\n      <th>Brand_code</th>\n      <th>Package</th>\n      <th>Week_End_Date</th>\n      <th>Sum of Plan</th>\n      <th>fact</th>\n      <th>row_id</th>\n      <th>week_number</th>\n      <th>month</th>\n      <th>...</th>\n      <th>lag_5</th>\n      <th>lag_7</th>\n      <th>rolling_mean_3</th>\n      <th>rolling_std_3</th>\n      <th>rolling_mean_5</th>\n      <th>rolling_std_5</th>\n      <th>rolling_mean_7</th>\n      <th>rolling_std_7</th>\n      <th>trend_3</th>\n      <th>momentum</th>\n    </tr>\n  </thead>\n  <tbody>\n    <tr>\n      <th>0</th>\n      <td>A</td>\n      <td>a</td>\n      <td>AC</td>\n      <td>TP 0.2</td>\n      <td>2023-02-24</td>\n      <td>9.123000</td>\n      <td>47.560000</td>\n      <td>A_a_AC_TP 0.2</td>\n      <td>8</td>\n      <td>2</td>\n      <td>...</td>\n      <td>6.010000</td>\n      <td>0.010</td>\n      <td>71.970332</td>\n      <td>55.097398</td>\n      <td>46.688199</td>\n      <td>52.121213</td>\n      <td>34.780142</td>\n      <td>47.169933</td>\n      <td>38.040000</td>\n      <td>0.113633</td>\n    </tr>\n    <tr>\n      <th>1</th>\n      <td>A</td>\n      <td>a</td>\n      <td>AC</td>\n      <td>TP 0.2</td>\n      <td>2023-03-03</td>\n      <td>70.298003</td>\n      <td>2.863000</td>\n      <td>A_a_AC_TP 0.2</td>\n      <td>9</td>\n      <td>3</td>\n      <td>...</td>\n      <td>8.010000</td>\n      <td>4.010</td>\n      <td>27.906000</td>\n      <td>22.830603</td>\n      <td>45.658799</td>\n      <td>53.117394</td>\n      <td>34.616285</td>\n      <td>47.296458</td>\n      <td>-132.192996</td>\n      <td>0.439235</td>\n    </tr>\n    <tr>\n      <th>2</th>\n      <td>A</td>\n      <td>a</td>\n      <td>AC</td>\n      <td>TP 0.2</td>\n      <td>2023-03-10</td>\n      <td>0.165000</td>\n      <td>1.912000</td>\n      <td>A_a_AC_TP 0.2</td>\n      <td>10</td>\n      <td>3</td>\n      <td>...</td>\n      <td>9.520000</td>\n      <td>6.010</td>\n      <td>17.445000</td>\n      <td>26.084690</td>\n      <td>44.137199</td>\n      <td>54.502347</td>\n      <td>34.030856</td>\n      <td>47.732905</td>\n      <td>-31.382999</td>\n      <td>-0.066667</td>\n    </tr>\n    <tr>\n      <th>3</th>\n      <td>A</td>\n      <td>a</td>\n      <td>AC</td>\n      <td>TP 0.2</td>\n      <td>2023-03-17</td>\n      <td>0.196000</td>\n      <td>1.912000</td>\n      <td>A_a_AC_TP 0.2</td>\n      <td>11</td>\n      <td>3</td>\n      <td>...</td>\n      <td>135.055995</td>\n      <td>8.010</td>\n      <td>2.229000</td>\n      <td>0.549060</td>\n      <td>17.508400</td>\n      <td>21.524977</td>\n      <td>33.159714</td>\n      <td>48.338744</td>\n      <td>-45.648000</td>\n      <td>-0.000000</td>\n    </tr>\n    <tr>\n      <th>4</th>\n      <td>A</td>\n      <td>a</td>\n      <td>AC</td>\n      <td>TP 0.2</td>\n      <td>2023-03-24</td>\n      <td>0.196000</td>\n      <td>1.912000</td>\n      <td>A_a_AC_TP 0.2</td>\n      <td>12</td>\n      <td>3</td>\n      <td>...</td>\n      <td>33.294999</td>\n      <td>9.520</td>\n      <td>1.912000</td>\n      <td>0.000000</td>\n      <td>11.231800</td>\n      <td>20.312256</td>\n      <td>32.072856</td>\n      <td>49.039303</td>\n      <td>-0.951000</td>\n      <td>-0.000000</td>\n    </tr>\n    <tr>\n      <th>...</th>\n      <td>...</td>\n      <td>...</td>\n      <td>...</td>\n      <td>...</td>\n      <td>...</td>\n      <td>...</td>\n      <td>...</td>\n      <td>...</td>\n      <td>...</td>\n      <td>...</td>\n      <td>...</td>\n      <td>...</td>\n      <td>...</td>\n      <td>...</td>\n      <td>...</td>\n      <td>...</td>\n      <td>...</td>\n      <td>...</td>\n      <td>...</td>\n      <td>...</td>\n      <td>...</td>\n    </tr>\n    <tr>\n      <th>54091</th>\n      <td>I</td>\n      <td>an</td>\n      <td>AD</td>\n      <td>PET 1.0</td>\n      <td>2024-11-29</td>\n      <td>54.766687</td>\n      <td>78.192999</td>\n      <td>I_an_AD_PET 1.0</td>\n      <td>48</td>\n      <td>11</td>\n      <td>...</td>\n      <td>2.123000</td>\n      <td>0.010</td>\n      <td>53.542334</td>\n      <td>46.408603</td>\n      <td>32.129400</td>\n      <td>44.006732</td>\n      <td>23.254286</td>\n      <td>39.002214</td>\n      <td>78.182999</td>\n      <td>-423100.376129</td>\n    </tr>\n    <tr>\n      <th>54092</th>\n      <td>I</td>\n      <td>an</td>\n      <td>AD</td>\n      <td>PET 1.0</td>\n      <td>2024-12-06</td>\n      <td>65.133425</td>\n      <td>171.193998</td>\n      <td>I_an_AD_PET 1.0</td>\n      <td>49</td>\n      <td>12</td>\n      <td>...</td>\n      <td>0.010000</td>\n      <td>0.010</td>\n      <td>110.603666</td>\n      <td>52.515394</td>\n      <td>66.366200</td>\n      <td>71.050834</td>\n      <td>47.709143</td>\n      <td>66.189900</td>\n      <td>171.183998</td>\n      <td>1.128461</td>\n    </tr>\n    <tr>\n      <th>54093</th>\n      <td>I</td>\n      <td>an</td>\n      <td>AD</td>\n      <td>PET 1.0</td>\n      <td>2024-12-13</td>\n      <td>59.458602</td>\n      <td>46.503001</td>\n      <td>I_an_AD_PET 1.0</td>\n      <td>50</td>\n      <td>12</td>\n      <td>...</td>\n      <td>0.010000</td>\n      <td>2.123</td>\n      <td>98.629999</td>\n      <td>64.809061</td>\n      <td>75.664800</td>\n      <td>62.753417</td>\n      <td>54.049143</td>\n      <td>63.151414</td>\n      <td>-35.921001</td>\n      <td>29.470853</td>\n    </tr>\n    <tr>\n      <th>54094</th>\n      <td>I</td>\n      <td>an</td>\n      <td>AD</td>\n      <td>PET 1.0</td>\n      <td>2024-12-20</td>\n      <td>77.697035</td>\n      <td>8.463000</td>\n      <td>I_an_AD_PET 1.0</td>\n      <td>51</td>\n      <td>12</td>\n      <td>...</td>\n      <td>0.010000</td>\n      <td>0.010</td>\n      <td>75.386666</td>\n      <td>85.123698</td>\n      <td>77.355400</td>\n      <td>60.270449</td>\n      <td>55.256714</td>\n      <td>62.016485</td>\n      <td>-69.729999</td>\n      <td>-0.409028</td>\n    </tr>\n    <tr>\n      <th>54095</th>\n      <td>I</td>\n      <td>an</td>\n      <td>AD</td>\n      <td>PET 1.0</td>\n      <td>2024-12-27</td>\n      <td>38.618049</td>\n      <td>0.010000</td>\n      <td>I_an_AD_PET 1.0</td>\n      <td>52</td>\n      <td>12</td>\n      <td>...</td>\n      <td>82.424002</td>\n      <td>0.010</td>\n      <td>18.325334</td>\n      <td>24.765884</td>\n      <td>60.872600</td>\n      <td>69.152575</td>\n      <td>55.256714</td>\n      <td>62.016485</td>\n      <td>-171.183998</td>\n      <td>0.067792</td>\n    </tr>\n  </tbody>\n</table>\n<p>54096 rows × 25 columns</p>\n</div>"
     },
     "execution_count": 5,
     "metadata": {},
     "output_type": "execute_result"
    }
   ],
   "source": [
    "# 2. Применяем функцию\n",
    "features_df = df.groupby('row_id').apply(create_features).reset_index(drop=True)\n",
    "\n",
    "# 3. Проверяем результат\n",
    "features_df"
   ],
   "metadata": {
    "collapsed": false,
    "ExecuteTime": {
     "end_time": "2025-06-02T14:53:08.231330100Z",
     "start_time": "2025-06-02T14:53:04.218678100Z"
    }
   },
   "id": "1cd8a12b6f572d31",
   "execution_count": 5
  },
  {
   "cell_type": "code",
   "outputs": [],
   "source": [
    "def split_train_test(features_df, n_test=4):\n",
    "    train_list = []\n",
    "    test_list = []\n",
    "    # Группируем по уникальному ряду\n",
    "    for row_id, group in features_df.groupby('row_id'):\n",
    "        group = group.sort_values('Week_End_Date')\n",
    "        # Тест — последние n_test строк, трейн — всё остальное\n",
    "        test_part = group.tail(n_test)\n",
    "        train_part = group.iloc[:-n_test]\n",
    "        test_list.append(test_part)\n",
    "        train_list.append(train_part)\n",
    "    # Собираем обратно в датафреймы\n",
    "    train_df = pd.concat(train_list).reset_index(drop=True)\n",
    "    test_df = pd.concat(test_list).reset_index(drop=True)\n",
    "    return train_df, test_df"
   ],
   "metadata": {
    "collapsed": false,
    "ExecuteTime": {
     "end_time": "2025-06-02T14:53:10.549416Z",
     "start_time": "2025-06-02T14:53:10.537420Z"
    }
   },
   "id": "70ae42e52ca736c9",
   "execution_count": 6
  },
  {
   "cell_type": "code",
   "outputs": [],
   "source": [
    "# Применяем\n",
    "train_df, test_df = split_train_test(features_df, n_test=4)\n",
    "\n",
    "# Сохраняем\n",
    "#train_df.to_csv('train.csv', index=False)\n",
    "#test_df.to_csv('test.csv', index=False)"
   ],
   "metadata": {
    "collapsed": false,
    "ExecuteTime": {
     "end_time": "2025-06-02T14:53:22.358624700Z",
     "start_time": "2025-06-02T14:53:22.053720400Z"
    }
   },
   "id": "6463ca521d101cb4",
   "execution_count": 7
  },
  {
   "cell_type": "code",
   "outputs": [],
   "source": [
    "def process_single_row(row_id: str) -> dict:\n",
    "    try:\n",
    "        df_row = df[df['row_id'] == row_id].copy()\n",
    "        df_feat = create_features(df_row)\n",
    "\n",
    "        if len(df_feat) < 10:\n",
    "            return {'row_id': row_id, 'status': 'too_short'}\n",
    "\n",
    "        # Train / Test\n",
    "        df_train = df_feat.iloc[:-4]\n",
    "        df_test = df_feat.iloc[-4:]\n",
    "\n",
    "        X_train = df_train.drop(columns=['fact', 'Week_End_Date', 'row_id',\n",
    "                                         'Territory_code', 'Plant_code', 'Brand_code', 'Package', 'Sum of Plan'], errors='ignore')\n",
    "        y_train = df_train['fact']\n",
    "        X_test = df_test[X_train.columns]\n",
    "        y_test = df_test['fact']\n",
    "\n",
    "        # Grid Search\n",
    "        model = XGBRegressor(objective='reg:squarederror', random_state=42)\n",
    "        param_grid = {\n",
    "        'n_estimators': [100, 200],\n",
    "        'max_depth': [3, 5, 7],\n",
    "        'learning_rate': [0.05, 0.1],\n",
    "        'subsample': [0.8, 1.0],\n",
    "        'colsample_bytree': [0.8, 1.0],\n",
    "        }\n",
    "\n",
    "        tscv = TimeSeriesSplit(n_splits=3)\n",
    "        grid = GridSearchCV(model, param_grid, cv=tscv, scoring='neg_mean_absolute_error', n_jobs=-1)\n",
    "        grid.fit(X_train, y_train)\n",
    "\n",
    "        best_model = grid.best_estimator_\n",
    "        # Создаём папку для моделей, если нужно\n",
    "        os.makedirs('models', exist_ok=True)\n",
    "        model_path = f'models/model_{row_id}.joblib'\n",
    "        joblib.dump(best_model, model_path)\n",
    "        \n",
    "        \n",
    "        y_pred = best_model.predict(X_test)\n",
    "\n",
    "        # Обрезка отрицательных прогнозов\n",
    "        y_pred = np.maximum(y_pred, 0)\n",
    "\n",
    "        # Метрики\n",
    "        mae = mean_absolute_error(y_test, y_pred)\n",
    "        wape = np.sum(np.abs(y_test - y_pred)) / (np.sum(np.abs(y_test)) + 1e-5) * 100\n",
    "        smape = 100 * np.mean(np.abs(y_pred - y_test) / ((np.abs(y_test) + np.abs(y_pred)) / 2 + 1e-5))\n",
    "\n",
    "        return {\n",
    "            'row_id': row_id,\n",
    "            'MAE': mae,\n",
    "            'WAPE': wape,\n",
    "            'SMAPE': smape,\n",
    "            'params': grid.best_params_,\n",
    "            'status': 'ok'\n",
    "        }\n",
    "\n",
    "    except Exception as e:\n",
    "        return {'row_id': row_id, 'status': f'error: {e}'}"
   ],
   "metadata": {
    "collapsed": false,
    "ExecuteTime": {
     "end_time": "2025-05-20T15:49:57.350391900Z",
     "start_time": "2025-05-20T15:49:57.310253Z"
    }
   },
   "id": "de9675cee2b59db6",
   "execution_count": 16
  },
  {
   "cell_type": "code",
   "outputs": [
    {
     "name": "stderr",
     "output_type": "stream",
     "text": [
      "[Parallel(n_jobs=-1)]: Using backend LokyBackend with 16 concurrent workers.\n",
      "[Parallel(n_jobs=-1)]: Done   9 tasks      | elapsed:   17.1s\n",
      "[Parallel(n_jobs=-1)]: Done  18 tasks      | elapsed:   27.7s\n",
      "[Parallel(n_jobs=-1)]: Done  29 tasks      | elapsed:   33.3s\n",
      "[Parallel(n_jobs=-1)]: Done  40 tasks      | elapsed:   44.4s\n",
      "[Parallel(n_jobs=-1)]: Done  53 tasks      | elapsed:   56.5s\n",
      "[Parallel(n_jobs=-1)]: Done  66 tasks      | elapsed:  1.2min\n",
      "[Parallel(n_jobs=-1)]: Done  81 tasks      | elapsed:  1.4min\n",
      "[Parallel(n_jobs=-1)]: Done  96 tasks      | elapsed:  1.6min\n",
      "[Parallel(n_jobs=-1)]: Done 113 tasks      | elapsed:  1.8min\n",
      "[Parallel(n_jobs=-1)]: Done 130 tasks      | elapsed:  2.1min\n",
      "[Parallel(n_jobs=-1)]: Done 149 tasks      | elapsed:  2.4min\n",
      "[Parallel(n_jobs=-1)]: Done 168 tasks      | elapsed:  2.7min\n",
      "[Parallel(n_jobs=-1)]: Done 189 tasks      | elapsed:  3.0min\n",
      "[Parallel(n_jobs=-1)]: Done 210 tasks      | elapsed:  3.3min\n",
      "[Parallel(n_jobs=-1)]: Done 233 tasks      | elapsed:  3.6min\n",
      "[Parallel(n_jobs=-1)]: Done 256 tasks      | elapsed:  4.0min\n",
      "[Parallel(n_jobs=-1)]: Done 281 tasks      | elapsed:  4.5min\n",
      "[Parallel(n_jobs=-1)]: Done 306 tasks      | elapsed:  4.9min\n",
      "[Parallel(n_jobs=-1)]: Done 333 tasks      | elapsed:  5.4min\n",
      "[Parallel(n_jobs=-1)]: Done 360 tasks      | elapsed:  5.9min\n",
      "[Parallel(n_jobs=-1)]: Done 389 tasks      | elapsed:  6.4min\n",
      "[Parallel(n_jobs=-1)]: Done 418 tasks      | elapsed:  6.8min\n",
      "[Parallel(n_jobs=-1)]: Done 449 tasks      | elapsed:  7.4min\n",
      "[Parallel(n_jobs=-1)]: Done 480 tasks      | elapsed:  7.9min\n",
      "[Parallel(n_jobs=-1)]: Done 513 tasks      | elapsed:  8.5min\n",
      "[Parallel(n_jobs=-1)]: Done 546 tasks      | elapsed:  9.0min\n",
      "[Parallel(n_jobs=-1)]: Done 602 out of 602 | elapsed:  9.8min finished\n"
     ]
    }
   ],
   "source": [
    "# Получаем все уникальные ряды\n",
    "unique_row_ids = df['row_id'].unique()\n",
    "\n",
    "# Запускаем обработку\n",
    "results = Parallel(n_jobs=-1, verbose=10)(\n",
    "    delayed(process_single_row)(row_id) for row_id in unique_row_ids\n",
    ")\n",
    "\n",
    "# Собираем в DataFrame\n",
    "metrics_df = pd.DataFrame(results)"
   ],
   "metadata": {
    "collapsed": false,
    "ExecuteTime": {
     "end_time": "2025-05-20T16:02:43.346018200Z",
     "start_time": "2025-05-20T15:52:52.560870900Z"
    }
   },
   "id": "b088a35c5d80b51a",
   "execution_count": 17
  },
  {
   "cell_type": "code",
   "outputs": [
    {
     "data": {
      "text/plain": "              row_id         MAE       WAPE       SMAPE  \\\n0      A_a_AC_TP 0.2    0.567235  29.667062   67.886600   \n1      A_a_AC_TP 1.0   34.818678  67.237642   94.743511   \n2     A_a_AD_PET 1.0   38.552308  42.173769   86.844804   \n3     A_b_AA_PET 0.5   14.092477  15.596096   72.397928   \n4     A_b_AA_PET 1.0   11.760786  38.366233  117.012435   \n..               ...         ...        ...         ...   \n597  I_am_AH_PET 1.0   85.233525  31.633612   51.567827   \n598  I_am_AJ_PET 1.0   32.197129  36.491545   56.525742   \n599  I_an_AC_PET 0.3    1.831529  20.611394  104.516797   \n600   I_an_AC_TP 2.0  138.470680  51.588519  110.785929   \n601  I_an_AD_PET 1.0   16.180907  28.617246   88.752791   \n\n                                                params status  \n0    {'colsample_bytree': 0.8, 'learning_rate': 0.1...     ok  \n1    {'colsample_bytree': 0.8, 'learning_rate': 0.0...     ok  \n2    {'colsample_bytree': 0.8, 'learning_rate': 0.0...     ok  \n3    {'colsample_bytree': 1.0, 'learning_rate': 0.1...     ok  \n4    {'colsample_bytree': 1.0, 'learning_rate': 0.1...     ok  \n..                                                 ...    ...  \n597  {'colsample_bytree': 1.0, 'learning_rate': 0.1...     ok  \n598  {'colsample_bytree': 1.0, 'learning_rate': 0.0...     ok  \n599  {'colsample_bytree': 1.0, 'learning_rate': 0.1...     ok  \n600  {'colsample_bytree': 0.8, 'learning_rate': 0.1...     ok  \n601  {'colsample_bytree': 1.0, 'learning_rate': 0.1...     ok  \n\n[602 rows x 6 columns]",
      "text/html": "<div>\n<style scoped>\n    .dataframe tbody tr th:only-of-type {\n        vertical-align: middle;\n    }\n\n    .dataframe tbody tr th {\n        vertical-align: top;\n    }\n\n    .dataframe thead th {\n        text-align: right;\n    }\n</style>\n<table border=\"1\" class=\"dataframe\">\n  <thead>\n    <tr style=\"text-align: right;\">\n      <th></th>\n      <th>row_id</th>\n      <th>MAE</th>\n      <th>WAPE</th>\n      <th>SMAPE</th>\n      <th>params</th>\n      <th>status</th>\n    </tr>\n  </thead>\n  <tbody>\n    <tr>\n      <th>0</th>\n      <td>A_a_AC_TP 0.2</td>\n      <td>0.567235</td>\n      <td>29.667062</td>\n      <td>67.886600</td>\n      <td>{'colsample_bytree': 0.8, 'learning_rate': 0.1...</td>\n      <td>ok</td>\n    </tr>\n    <tr>\n      <th>1</th>\n      <td>A_a_AC_TP 1.0</td>\n      <td>34.818678</td>\n      <td>67.237642</td>\n      <td>94.743511</td>\n      <td>{'colsample_bytree': 0.8, 'learning_rate': 0.0...</td>\n      <td>ok</td>\n    </tr>\n    <tr>\n      <th>2</th>\n      <td>A_a_AD_PET 1.0</td>\n      <td>38.552308</td>\n      <td>42.173769</td>\n      <td>86.844804</td>\n      <td>{'colsample_bytree': 0.8, 'learning_rate': 0.0...</td>\n      <td>ok</td>\n    </tr>\n    <tr>\n      <th>3</th>\n      <td>A_b_AA_PET 0.5</td>\n      <td>14.092477</td>\n      <td>15.596096</td>\n      <td>72.397928</td>\n      <td>{'colsample_bytree': 1.0, 'learning_rate': 0.1...</td>\n      <td>ok</td>\n    </tr>\n    <tr>\n      <th>4</th>\n      <td>A_b_AA_PET 1.0</td>\n      <td>11.760786</td>\n      <td>38.366233</td>\n      <td>117.012435</td>\n      <td>{'colsample_bytree': 1.0, 'learning_rate': 0.1...</td>\n      <td>ok</td>\n    </tr>\n    <tr>\n      <th>...</th>\n      <td>...</td>\n      <td>...</td>\n      <td>...</td>\n      <td>...</td>\n      <td>...</td>\n      <td>...</td>\n    </tr>\n    <tr>\n      <th>597</th>\n      <td>I_am_AH_PET 1.0</td>\n      <td>85.233525</td>\n      <td>31.633612</td>\n      <td>51.567827</td>\n      <td>{'colsample_bytree': 1.0, 'learning_rate': 0.1...</td>\n      <td>ok</td>\n    </tr>\n    <tr>\n      <th>598</th>\n      <td>I_am_AJ_PET 1.0</td>\n      <td>32.197129</td>\n      <td>36.491545</td>\n      <td>56.525742</td>\n      <td>{'colsample_bytree': 1.0, 'learning_rate': 0.0...</td>\n      <td>ok</td>\n    </tr>\n    <tr>\n      <th>599</th>\n      <td>I_an_AC_PET 0.3</td>\n      <td>1.831529</td>\n      <td>20.611394</td>\n      <td>104.516797</td>\n      <td>{'colsample_bytree': 1.0, 'learning_rate': 0.1...</td>\n      <td>ok</td>\n    </tr>\n    <tr>\n      <th>600</th>\n      <td>I_an_AC_TP 2.0</td>\n      <td>138.470680</td>\n      <td>51.588519</td>\n      <td>110.785929</td>\n      <td>{'colsample_bytree': 0.8, 'learning_rate': 0.1...</td>\n      <td>ok</td>\n    </tr>\n    <tr>\n      <th>601</th>\n      <td>I_an_AD_PET 1.0</td>\n      <td>16.180907</td>\n      <td>28.617246</td>\n      <td>88.752791</td>\n      <td>{'colsample_bytree': 1.0, 'learning_rate': 0.1...</td>\n      <td>ok</td>\n    </tr>\n  </tbody>\n</table>\n<p>602 rows × 6 columns</p>\n</div>"
     },
     "execution_count": 18,
     "metadata": {},
     "output_type": "execute_result"
    }
   ],
   "source": [
    "metrics_df"
   ],
   "metadata": {
    "collapsed": false,
    "ExecuteTime": {
     "end_time": "2025-05-20T16:19:11.980751Z",
     "start_time": "2025-05-20T16:19:11.937440500Z"
    }
   },
   "id": "d998ec54a5c777b6",
   "execution_count": 18
  },
  {
   "cell_type": "code",
   "outputs": [
    {
     "data": {
      "text/plain": "               MAE         WAPE       SMAPE  Wape_cliped\ncount   602.000000   602.000000  602.000000   602.000000\nmean     75.128427    53.688279   67.068041    42.466033\nstd     251.555252   163.182392   45.134674    47.520634\nmin       0.000568     0.105515    1.052081     0.105515\n25%       2.640271    17.705339   31.140332    17.705339\n50%      14.163472    29.706610   59.001876    29.706610\n75%      46.601736    47.730084   95.201105    47.730084\nmax    4550.873478  2705.296474  199.523512   300.000000",
      "text/html": "<div>\n<style scoped>\n    .dataframe tbody tr th:only-of-type {\n        vertical-align: middle;\n    }\n\n    .dataframe tbody tr th {\n        vertical-align: top;\n    }\n\n    .dataframe thead th {\n        text-align: right;\n    }\n</style>\n<table border=\"1\" class=\"dataframe\">\n  <thead>\n    <tr style=\"text-align: right;\">\n      <th></th>\n      <th>MAE</th>\n      <th>WAPE</th>\n      <th>SMAPE</th>\n      <th>Wape_cliped</th>\n    </tr>\n  </thead>\n  <tbody>\n    <tr>\n      <th>count</th>\n      <td>602.000000</td>\n      <td>602.000000</td>\n      <td>602.000000</td>\n      <td>602.000000</td>\n    </tr>\n    <tr>\n      <th>mean</th>\n      <td>75.128427</td>\n      <td>53.688279</td>\n      <td>67.068041</td>\n      <td>42.466033</td>\n    </tr>\n    <tr>\n      <th>std</th>\n      <td>251.555252</td>\n      <td>163.182392</td>\n      <td>45.134674</td>\n      <td>47.520634</td>\n    </tr>\n    <tr>\n      <th>min</th>\n      <td>0.000568</td>\n      <td>0.105515</td>\n      <td>1.052081</td>\n      <td>0.105515</td>\n    </tr>\n    <tr>\n      <th>25%</th>\n      <td>2.640271</td>\n      <td>17.705339</td>\n      <td>31.140332</td>\n      <td>17.705339</td>\n    </tr>\n    <tr>\n      <th>50%</th>\n      <td>14.163472</td>\n      <td>29.706610</td>\n      <td>59.001876</td>\n      <td>29.706610</td>\n    </tr>\n    <tr>\n      <th>75%</th>\n      <td>46.601736</td>\n      <td>47.730084</td>\n      <td>95.201105</td>\n      <td>47.730084</td>\n    </tr>\n    <tr>\n      <th>max</th>\n      <td>4550.873478</td>\n      <td>2705.296474</td>\n      <td>199.523512</td>\n      <td>300.000000</td>\n    </tr>\n  </tbody>\n</table>\n</div>"
     },
     "execution_count": 19,
     "metadata": {},
     "output_type": "execute_result"
    }
   ],
   "source": [
    "metrics_df['Wape_cliped'] = metrics_df['WAPE'].clip(upper=300)\n",
    "metrics_df[['MAE', 'WAPE', 'SMAPE', 'Wape_cliped']].describe()"
   ],
   "metadata": {
    "collapsed": false,
    "ExecuteTime": {
     "end_time": "2025-05-20T16:20:11.003427700Z",
     "start_time": "2025-05-20T16:20:10.961626800Z"
    }
   },
   "id": "b91c83184d689caa",
   "execution_count": 19
  },
  {
   "cell_type": "code",
   "outputs": [],
   "source": [],
   "metadata": {
    "collapsed": false
   },
   "id": "fe25224d2b2ea080"
  }
 ],
 "metadata": {
  "kernelspec": {
   "display_name": "Python 3",
   "language": "python",
   "name": "python3"
  },
  "language_info": {
   "codemirror_mode": {
    "name": "ipython",
    "version": 2
   },
   "file_extension": ".py",
   "mimetype": "text/x-python",
   "name": "python",
   "nbconvert_exporter": "python",
   "pygments_lexer": "ipython2",
   "version": "2.7.6"
  }
 },
 "nbformat": 4,
 "nbformat_minor": 5
}
