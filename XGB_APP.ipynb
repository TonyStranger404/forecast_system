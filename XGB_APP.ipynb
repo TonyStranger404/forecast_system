{
 "cells": [
  {
   "cell_type": "code",
   "execution_count": 1,
   "id": "initial_id",
   "metadata": {
    "collapsed": true,
    "ExecuteTime": {
     "end_time": "2025-06-02T14:47:32.971256400Z",
     "start_time": "2025-06-02T14:47:15.411930700Z"
    }
   },
   "outputs": [],
   "source": [
    "import pandas as pd\n",
    "import numpy as np\n",
    "from xgboost import XGBRegressor\n",
    "from sklearn.model_selection import GridSearchCV, TimeSeriesSplit\n",
    "from sklearn.metrics import mean_absolute_error, make_scorer\n",
    "import matplotlib.pyplot as plt\n",
    "from joblib import Parallel, delayed\n",
    "import joblib\n",
    "import os"
   ]
  },
  {
   "cell_type": "code",
   "outputs": [
    {
     "data": {
      "text/plain": "      Territory_code Plant_code Brand_code  Package Week_End_Date  \\\n0                  A          a         AC   TP 0.2    2023-01-06   \n1                  A          a         AC   TP 0.2    2023-01-13   \n2                  A          a         AC   TP 0.2    2023-01-20   \n3                  A          a         AC   TP 0.2    2023-01-27   \n4                  A          a         AC   TP 0.2    2023-02-03   \n...              ...        ...        ...      ...           ...   \n58305              I         an         AD  PET 1.0    2024-11-29   \n58306              I         an         AD  PET 1.0    2024-12-06   \n58307              I         an         AD  PET 1.0    2024-12-13   \n58308              I         an         AD  PET 1.0    2024-12-20   \n58309              I         an         AD  PET 1.0    2024-12-27   \n\n       Sum of Plan        fact           row_id  \n0         1.000000    0.010000    A_a_AC_TP 0.2  \n1         1.000000    4.010000    A_a_AC_TP 0.2  \n2        61.000000    6.010000    A_a_AC_TP 0.2  \n3         0.000000    8.010000    A_a_AC_TP 0.2  \n4        18.879000    9.520000    A_a_AC_TP 0.2  \n...            ...         ...              ...  \n58305    54.766687   78.192999  I_an_AD_PET 1.0  \n58306    65.133425  171.193998  I_an_AD_PET 1.0  \n58307    59.458602   46.503001  I_an_AD_PET 1.0  \n58308    77.697035    8.463000  I_an_AD_PET 1.0  \n58309    38.618049    0.010000  I_an_AD_PET 1.0  \n\n[58310 rows x 8 columns]",
      "text/html": "<div>\n<style scoped>\n    .dataframe tbody tr th:only-of-type {\n        vertical-align: middle;\n    }\n\n    .dataframe tbody tr th {\n        vertical-align: top;\n    }\n\n    .dataframe thead th {\n        text-align: right;\n    }\n</style>\n<table border=\"1\" class=\"dataframe\">\n  <thead>\n    <tr style=\"text-align: right;\">\n      <th></th>\n      <th>Territory_code</th>\n      <th>Plant_code</th>\n      <th>Brand_code</th>\n      <th>Package</th>\n      <th>Week_End_Date</th>\n      <th>Sum of Plan</th>\n      <th>fact</th>\n      <th>row_id</th>\n    </tr>\n  </thead>\n  <tbody>\n    <tr>\n      <th>0</th>\n      <td>A</td>\n      <td>a</td>\n      <td>AC</td>\n      <td>TP 0.2</td>\n      <td>2023-01-06</td>\n      <td>1.000000</td>\n      <td>0.010000</td>\n      <td>A_a_AC_TP 0.2</td>\n    </tr>\n    <tr>\n      <th>1</th>\n      <td>A</td>\n      <td>a</td>\n      <td>AC</td>\n      <td>TP 0.2</td>\n      <td>2023-01-13</td>\n      <td>1.000000</td>\n      <td>4.010000</td>\n      <td>A_a_AC_TP 0.2</td>\n    </tr>\n    <tr>\n      <th>2</th>\n      <td>A</td>\n      <td>a</td>\n      <td>AC</td>\n      <td>TP 0.2</td>\n      <td>2023-01-20</td>\n      <td>61.000000</td>\n      <td>6.010000</td>\n      <td>A_a_AC_TP 0.2</td>\n    </tr>\n    <tr>\n      <th>3</th>\n      <td>A</td>\n      <td>a</td>\n      <td>AC</td>\n      <td>TP 0.2</td>\n      <td>2023-01-27</td>\n      <td>0.000000</td>\n      <td>8.010000</td>\n      <td>A_a_AC_TP 0.2</td>\n    </tr>\n    <tr>\n      <th>4</th>\n      <td>A</td>\n      <td>a</td>\n      <td>AC</td>\n      <td>TP 0.2</td>\n      <td>2023-02-03</td>\n      <td>18.879000</td>\n      <td>9.520000</td>\n      <td>A_a_AC_TP 0.2</td>\n    </tr>\n    <tr>\n      <th>...</th>\n      <td>...</td>\n      <td>...</td>\n      <td>...</td>\n      <td>...</td>\n      <td>...</td>\n      <td>...</td>\n      <td>...</td>\n      <td>...</td>\n    </tr>\n    <tr>\n      <th>58305</th>\n      <td>I</td>\n      <td>an</td>\n      <td>AD</td>\n      <td>PET 1.0</td>\n      <td>2024-11-29</td>\n      <td>54.766687</td>\n      <td>78.192999</td>\n      <td>I_an_AD_PET 1.0</td>\n    </tr>\n    <tr>\n      <th>58306</th>\n      <td>I</td>\n      <td>an</td>\n      <td>AD</td>\n      <td>PET 1.0</td>\n      <td>2024-12-06</td>\n      <td>65.133425</td>\n      <td>171.193998</td>\n      <td>I_an_AD_PET 1.0</td>\n    </tr>\n    <tr>\n      <th>58307</th>\n      <td>I</td>\n      <td>an</td>\n      <td>AD</td>\n      <td>PET 1.0</td>\n      <td>2024-12-13</td>\n      <td>59.458602</td>\n      <td>46.503001</td>\n      <td>I_an_AD_PET 1.0</td>\n    </tr>\n    <tr>\n      <th>58308</th>\n      <td>I</td>\n      <td>an</td>\n      <td>AD</td>\n      <td>PET 1.0</td>\n      <td>2024-12-20</td>\n      <td>77.697035</td>\n      <td>8.463000</td>\n      <td>I_an_AD_PET 1.0</td>\n    </tr>\n    <tr>\n      <th>58309</th>\n      <td>I</td>\n      <td>an</td>\n      <td>AD</td>\n      <td>PET 1.0</td>\n      <td>2024-12-27</td>\n      <td>38.618049</td>\n      <td>0.010000</td>\n      <td>I_an_AD_PET 1.0</td>\n    </tr>\n  </tbody>\n</table>\n<p>58310 rows × 8 columns</p>\n</div>"
     },
     "execution_count": 2,
     "metadata": {},
     "output_type": "execute_result"
    }
   ],
   "source": [
    "df = pd.read_csv('DF_FINAL.csv')\n",
    "df['Week_End_Date'] = pd.to_datetime(df['Week_End_Date'])\n",
    "df"
   ],
   "metadata": {
    "collapsed": false,
    "ExecuteTime": {
     "end_time": "2025-06-02T14:52:54.147092200Z",
     "start_time": "2025-06-02T14:52:53.370357600Z"
    }
   },
   "id": "a32b118aa4184dc2",
   "execution_count": 2
  },
  {
   "cell_type": "code",
   "outputs": [],
   "source": [
    "EPSILON = 1e-5  # Для избежания деления на 0"
   ],
   "metadata": {
    "collapsed": false,
    "ExecuteTime": {
     "end_time": "2025-06-02T14:52:55.644956400Z",
     "start_time": "2025-06-02T14:52:55.626440100Z"
    }
   },
   "id": "6c472488cdbb6293",
   "execution_count": 3
  },
  {
   "cell_type": "code",
   "outputs": [],
   "source": [
    "def create_features(df_row: pd.DataFrame) -> pd.DataFrame:\n",
    "    df_row = df_row.sort_values('Week_End_Date').copy()\n",
    "\n",
    "    # Временные признаки\n",
    "    df_row['week_number'] = df_row['Week_End_Date'].dt.isocalendar().week\n",
    "    df_row['month'] = df_row['Week_End_Date'].dt.month\n",
    "    df_row['quarter'] = df_row['Week_End_Date'].dt.quarter\n",
    "\n",
    "    # Лаги fact\n",
    "    for lag in [1, 2, 3, 4, 5, 7]:\n",
    "        df_row[f'lag_{lag}'] = df_row['fact'].shift(lag)\n",
    "\n",
    "    # Скользящие средние и std\n",
    "    for window in [3, 5, 7]:\n",
    "        df_row[f'rolling_mean_{window}'] = df_row['fact'].rolling(window).mean()\n",
    "        df_row[f'rolling_std_{window}'] = df_row['fact'].rolling(window).std()\n",
    "\n",
    "    # Трендовые признаки\n",
    "    df_row['trend_3'] = df_row['fact'] - df_row['fact'].shift(3)\n",
    "    df_row['momentum'] = (df_row['fact'] - df_row['fact'].shift(1)) / \\\n",
    "                         (df_row['fact'].shift(2) - df_row['fact'].shift(3) + 1e-5)\n",
    "\n",
    "    # Удаление строк с NaN после лагов и rolling\n",
    "    df_row.dropna(inplace=True)\n",
    "\n",
    "    return df_row"
   ],
   "metadata": {
    "collapsed": false,
    "ExecuteTime": {
     "end_time": "2025-06-02T14:52:57.391525800Z",
     "start_time": "2025-06-02T14:52:57.371382500Z"
    }
   },
   "id": "efcbeba75b169c6",
   "execution_count": 4
  },
  {
   "cell_type": "code",
   "outputs": [
    {
     "name": "stderr",
     "output_type": "stream",
     "text": [
      "C:\\Users\\Anton\\AppData\\Local\\Temp\\ipykernel_26280\\2806616002.py:2: DeprecationWarning: DataFrameGroupBy.apply operated on the grouping columns. This behavior is deprecated, and in a future version of pandas the grouping columns will be excluded from the operation. Either pass `include_groups=False` to exclude the groupings or explicitly select the grouping columns after groupby to silence this warning.\n",
      "  features_df = df.groupby('row_id').apply(create_features).reset_index(drop=True)\n"
     ]
    },
    {
     "data": {
      "text/plain": "      Territory_code Plant_code Brand_code  Package Week_End_Date  \\\n0                  A          a         AC   TP 0.2    2023-02-24   \n1                  A          a         AC   TP 0.2    2023-03-03   \n2                  A          a         AC   TP 0.2    2023-03-10   \n3                  A          a         AC   TP 0.2    2023-03-17   \n4                  A          a         AC   TP 0.2    2023-03-24   \n...              ...        ...        ...      ...           ...   \n54091              I         an         AD  PET 1.0    2024-11-29   \n54092              I         an         AD  PET 1.0    2024-12-06   \n54093              I         an         AD  PET 1.0    2024-12-13   \n54094              I         an         AD  PET 1.0    2024-12-20   \n54095              I         an         AD  PET 1.0    2024-12-27   \n\n       Sum of Plan        fact           row_id  week_number  month  ...  \\\n0         9.123000   47.560000    A_a_AC_TP 0.2            8      2  ...   \n1        70.298003    2.863000    A_a_AC_TP 0.2            9      3  ...   \n2         0.165000    1.912000    A_a_AC_TP 0.2           10      3  ...   \n3         0.196000    1.912000    A_a_AC_TP 0.2           11      3  ...   \n4         0.196000    1.912000    A_a_AC_TP 0.2           12      3  ...   \n...            ...         ...              ...          ...    ...  ...   \n54091    54.766687   78.192999  I_an_AD_PET 1.0           48     11  ...   \n54092    65.133425  171.193998  I_an_AD_PET 1.0           49     12  ...   \n54093    59.458602   46.503001  I_an_AD_PET 1.0           50     12  ...   \n54094    77.697035    8.463000  I_an_AD_PET 1.0           51     12  ...   \n54095    38.618049    0.010000  I_an_AD_PET 1.0           52     12  ...   \n\n            lag_5  lag_7  rolling_mean_3  rolling_std_3  rolling_mean_5  \\\n0        6.010000  0.010       71.970332      55.097398       46.688199   \n1        8.010000  4.010       27.906000      22.830603       45.658799   \n2        9.520000  6.010       17.445000      26.084690       44.137199   \n3      135.055995  8.010        2.229000       0.549060       17.508400   \n4       33.294999  9.520        1.912000       0.000000       11.231800   \n...           ...    ...             ...            ...             ...   \n54091    2.123000  0.010       53.542334      46.408603       32.129400   \n54092    0.010000  0.010      110.603666      52.515394       66.366200   \n54093    0.010000  2.123       98.629999      64.809061       75.664800   \n54094    0.010000  0.010       75.386666      85.123698       77.355400   \n54095   82.424002  0.010       18.325334      24.765884       60.872600   \n\n       rolling_std_5  rolling_mean_7  rolling_std_7     trend_3       momentum  \n0          52.121213       34.780142      47.169933   38.040000       0.113633  \n1          53.117394       34.616285      47.296458 -132.192996       0.439235  \n2          54.502347       34.030856      47.732905  -31.382999      -0.066667  \n3          21.524977       33.159714      48.338744  -45.648000      -0.000000  \n4          20.312256       32.072856      49.039303   -0.951000      -0.000000  \n...              ...             ...            ...         ...            ...  \n54091      44.006732       23.254286      39.002214   78.182999 -423100.376129  \n54092      71.050834       47.709143      66.189900  171.183998       1.128461  \n54093      62.753417       54.049143      63.151414  -35.921001      29.470853  \n54094      60.270449       55.256714      62.016485  -69.729999      -0.409028  \n54095      69.152575       55.256714      62.016485 -171.183998       0.067792  \n\n[54096 rows x 25 columns]",
      "text/html": "<div>\n<style scoped>\n    .dataframe tbody tr th:only-of-type {\n        vertical-align: middle;\n    }\n\n    .dataframe tbody tr th {\n        vertical-align: top;\n    }\n\n    .dataframe thead th {\n        text-align: right;\n    }\n</style>\n<table border=\"1\" class=\"dataframe\">\n  <thead>\n    <tr style=\"text-align: right;\">\n      <th></th>\n      <th>Territory_code</th>\n      <th>Plant_code</th>\n      <th>Brand_code</th>\n      <th>Package</th>\n      <th>Week_End_Date</th>\n      <th>Sum of Plan</th>\n      <th>fact</th>\n      <th>row_id</th>\n      <th>week_number</th>\n      <th>month</th>\n      <th>...</th>\n      <th>lag_5</th>\n      <th>lag_7</th>\n      <th>rolling_mean_3</th>\n      <th>rolling_std_3</th>\n      <th>rolling_mean_5</th>\n      <th>rolling_std_5</th>\n      <th>rolling_mean_7</th>\n      <th>rolling_std_7</th>\n      <th>trend_3</th>\n      <th>momentum</th>\n    </tr>\n  </thead>\n  <tbody>\n    <tr>\n      <th>0</th>\n      <td>A</td>\n      <td>a</td>\n      <td>AC</td>\n      <td>TP 0.2</td>\n      <td>2023-02-24</td>\n      <td>9.123000</td>\n      <td>47.560000</td>\n      <td>A_a_AC_TP 0.2</td>\n      <td>8</td>\n      <td>2</td>\n      <td>...</td>\n      <td>6.010000</td>\n      <td>0.010</td>\n      <td>71.970332</td>\n      <td>55.097398</td>\n      <td>46.688199</td>\n      <td>52.121213</td>\n      <td>34.780142</td>\n      <td>47.169933</td>\n      <td>38.040000</td>\n      <td>0.113633</td>\n    </tr>\n    <tr>\n      <th>1</th>\n      <td>A</td>\n      <td>a</td>\n      <td>AC</td>\n      <td>TP 0.2</td>\n      <td>2023-03-03</td>\n      <td>70.298003</td>\n      <td>2.863000</td>\n      <td>A_a_AC_TP 0.2</td>\n      <td>9</td>\n      <td>3</td>\n      <td>...</td>\n      <td>8.010000</td>\n      <td>4.010</td>\n      <td>27.906000</td>\n      <td>22.830603</td>\n      <td>45.658799</td>\n      <td>53.117394</td>\n      <td>34.616285</td>\n      <td>47.296458</td>\n      <td>-132.192996</td>\n      <td>0.439235</td>\n    </tr>\n    <tr>\n      <th>2</th>\n      <td>A</td>\n      <td>a</td>\n      <td>AC</td>\n      <td>TP 0.2</td>\n      <td>2023-03-10</td>\n      <td>0.165000</td>\n      <td>1.912000</td>\n      <td>A_a_AC_TP 0.2</td>\n      <td>10</td>\n      <td>3</td>\n      <td>...</td>\n      <td>9.520000</td>\n      <td>6.010</td>\n      <td>17.445000</td>\n      <td>26.084690</td>\n      <td>44.137199</td>\n      <td>54.502347</td>\n      <td>34.030856</td>\n      <td>47.732905</td>\n      <td>-31.382999</td>\n      <td>-0.066667</td>\n    </tr>\n    <tr>\n      <th>3</th>\n      <td>A</td>\n      <td>a</td>\n      <td>AC</td>\n      <td>TP 0.2</td>\n      <td>2023-03-17</td>\n      <td>0.196000</td>\n      <td>1.912000</td>\n      <td>A_a_AC_TP 0.2</td>\n      <td>11</td>\n      <td>3</td>\n      <td>...</td>\n      <td>135.055995</td>\n      <td>8.010</td>\n      <td>2.229000</td>\n      <td>0.549060</td>\n      <td>17.508400</td>\n      <td>21.524977</td>\n      <td>33.159714</td>\n      <td>48.338744</td>\n      <td>-45.648000</td>\n      <td>-0.000000</td>\n    </tr>\n    <tr>\n      <th>4</th>\n      <td>A</td>\n      <td>a</td>\n      <td>AC</td>\n      <td>TP 0.2</td>\n      <td>2023-03-24</td>\n      <td>0.196000</td>\n      <td>1.912000</td>\n      <td>A_a_AC_TP 0.2</td>\n      <td>12</td>\n      <td>3</td>\n      <td>...</td>\n      <td>33.294999</td>\n      <td>9.520</td>\n      <td>1.912000</td>\n      <td>0.000000</td>\n      <td>11.231800</td>\n      <td>20.312256</td>\n      <td>32.072856</td>\n      <td>49.039303</td>\n      <td>-0.951000</td>\n      <td>-0.000000</td>\n    </tr>\n    <tr>\n      <th>...</th>\n      <td>...</td>\n      <td>...</td>\n      <td>...</td>\n      <td>...</td>\n      <td>...</td>\n      <td>...</td>\n      <td>...</td>\n      <td>...</td>\n      <td>...</td>\n      <td>...</td>\n      <td>...</td>\n      <td>...</td>\n      <td>...</td>\n      <td>...</td>\n      <td>...</td>\n      <td>...</td>\n      <td>...</td>\n      <td>...</td>\n      <td>...</td>\n      <td>...</td>\n      <td>...</td>\n    </tr>\n    <tr>\n      <th>54091</th>\n      <td>I</td>\n      <td>an</td>\n      <td>AD</td>\n      <td>PET 1.0</td>\n      <td>2024-11-29</td>\n      <td>54.766687</td>\n      <td>78.192999</td>\n      <td>I_an_AD_PET 1.0</td>\n      <td>48</td>\n      <td>11</td>\n      <td>...</td>\n      <td>2.123000</td>\n      <td>0.010</td>\n      <td>53.542334</td>\n      <td>46.408603</td>\n      <td>32.129400</td>\n      <td>44.006732</td>\n      <td>23.254286</td>\n      <td>39.002214</td>\n      <td>78.182999</td>\n      <td>-423100.376129</td>\n    </tr>\n    <tr>\n      <th>54092</th>\n      <td>I</td>\n      <td>an</td>\n      <td>AD</td>\n      <td>PET 1.0</td>\n      <td>2024-12-06</td>\n      <td>65.133425</td>\n      <td>171.193998</td>\n      <td>I_an_AD_PET 1.0</td>\n      <td>49</td>\n      <td>12</td>\n      <td>...</td>\n      <td>0.010000</td>\n      <td>0.010</td>\n      <td>110.603666</td>\n      <td>52.515394</td>\n      <td>66.366200</td>\n      <td>71.050834</td>\n      <td>47.709143</td>\n      <td>66.189900</td>\n      <td>171.183998</td>\n      <td>1.128461</td>\n    </tr>\n    <tr>\n      <th>54093</th>\n      <td>I</td>\n      <td>an</td>\n      <td>AD</td>\n      <td>PET 1.0</td>\n      <td>2024-12-13</td>\n      <td>59.458602</td>\n      <td>46.503001</td>\n      <td>I_an_AD_PET 1.0</td>\n      <td>50</td>\n      <td>12</td>\n      <td>...</td>\n      <td>0.010000</td>\n      <td>2.123</td>\n      <td>98.629999</td>\n      <td>64.809061</td>\n      <td>75.664800</td>\n      <td>62.753417</td>\n      <td>54.049143</td>\n      <td>63.151414</td>\n      <td>-35.921001</td>\n      <td>29.470853</td>\n    </tr>\n    <tr>\n      <th>54094</th>\n      <td>I</td>\n      <td>an</td>\n      <td>AD</td>\n      <td>PET 1.0</td>\n      <td>2024-12-20</td>\n      <td>77.697035</td>\n      <td>8.463000</td>\n      <td>I_an_AD_PET 1.0</td>\n      <td>51</td>\n      <td>12</td>\n      <td>...</td>\n      <td>0.010000</td>\n      <td>0.010</td>\n      <td>75.386666</td>\n      <td>85.123698</td>\n      <td>77.355400</td>\n      <td>60.270449</td>\n      <td>55.256714</td>\n      <td>62.016485</td>\n      <td>-69.729999</td>\n      <td>-0.409028</td>\n    </tr>\n    <tr>\n      <th>54095</th>\n      <td>I</td>\n      <td>an</td>\n      <td>AD</td>\n      <td>PET 1.0</td>\n      <td>2024-12-27</td>\n      <td>38.618049</td>\n      <td>0.010000</td>\n      <td>I_an_AD_PET 1.0</td>\n      <td>52</td>\n      <td>12</td>\n      <td>...</td>\n      <td>82.424002</td>\n      <td>0.010</td>\n      <td>18.325334</td>\n      <td>24.765884</td>\n      <td>60.872600</td>\n      <td>69.152575</td>\n      <td>55.256714</td>\n      <td>62.016485</td>\n      <td>-171.183998</td>\n      <td>0.067792</td>\n    </tr>\n  </tbody>\n</table>\n<p>54096 rows × 25 columns</p>\n</div>"
     },
     "execution_count": 5,
     "metadata": {},
     "output_type": "execute_result"
    }
   ],
   "source": [
    "# 2. Применяем функцию\n",
    "features_df = df.groupby('row_id').apply(create_features).reset_index(drop=True)\n",
    "\n",
    "# 3. Проверяем результат\n",
    "features_df"
   ],
   "metadata": {
    "collapsed": false,
    "ExecuteTime": {
     "end_time": "2025-06-02T14:53:08.231330100Z",
     "start_time": "2025-06-02T14:53:04.218678100Z"
    }
   },
   "id": "1cd8a12b6f572d31",
   "execution_count": 5
  },
  {
   "cell_type": "code",
   "outputs": [],
   "source": [
    "def split_train_test(features_df, n_test=4):\n",
    "    train_list = []\n",
    "    test_list = []\n",
    "    # Группируем по уникальному ряду\n",
    "    for row_id, group in features_df.groupby('row_id'):\n",
    "        group = group.sort_values('Week_End_Date')\n",
    "        # Тест — последние n_test строк, трейн — всё остальное\n",
    "        test_part = group.tail(n_test)\n",
    "        train_part = group.iloc[:-n_test]\n",
    "        test_list.append(test_part)\n",
    "        train_list.append(train_part)\n",
    "    # Собираем обратно в датафреймы\n",
    "    train_df = pd.concat(train_list).reset_index(drop=True)\n",
    "    test_df = pd.concat(test_list).reset_index(drop=True)\n",
    "    return train_df, test_df"
   ],
   "metadata": {
    "collapsed": false,
    "ExecuteTime": {
     "end_time": "2025-06-02T14:53:10.549416Z",
     "start_time": "2025-06-02T14:53:10.537420Z"
    }
   },
   "id": "70ae42e52ca736c9",
   "execution_count": 6
  },
  {
   "cell_type": "code",
   "outputs": [],
   "source": [
    "# Применяем\n",
    "train_df, test_df = split_train_test(features_df, n_test=4)\n",
    "\n",
    "# Сохраняем\n",
    "#train_df.to_csv('train.csv', index=False)\n",
    "#test_df.to_csv('test.csv', index=False)"
   ],
   "metadata": {
    "collapsed": false,
    "ExecuteTime": {
     "end_time": "2025-06-02T14:53:22.358624700Z",
     "start_time": "2025-06-02T14:53:22.053720400Z"
    }
   },
   "id": "6463ca521d101cb4",
   "execution_count": 7
  },
  {
   "cell_type": "code",
   "outputs": [],
   "source": [
    "def process_single_row(row_id: str) -> dict:\n",
    "    try:\n",
    "        df_row = df[df['row_id'] == row_id].copy()\n",
    "        df_feat = create_features(df_row)\n",
    "\n",
    "        if len(df_feat) < 10:\n",
    "            return {'row_id': row_id, 'status': 'too_short'}\n",
    "\n",
    "        # Train / Test\n",
    "        df_train = df_feat.iloc[:-4]\n",
    "        df_test = df_feat.iloc[-4:]\n",
    "\n",
    "        X_train = df_train.drop(columns=['fact', 'Week_End_Date', 'row_id',\n",
    "                                         'Territory_code', 'Plant_code', 'Brand_code', 'Package', 'Sum of Plan'], errors='ignore')\n",
    "        y_train = df_train['fact']\n",
    "        X_test = df_test[X_train.columns]\n",
    "        y_test = df_test['fact']\n",
    "\n",
    "        # Grid Search\n",
    "        model = XGBRegressor(objective='reg:squarederror', random_state=42)\n",
    "        param_grid = {\n",
    "        'n_estimators': [100, 200],\n",
    "        'max_depth': [3, 5, 7],\n",
    "        'learning_rate': [0.05, 0.1],\n",
    "        'subsample': [0.8, 1.0],\n",
    "        'colsample_bytree': [0.8, 1.0],\n",
    "        }\n",
    "\n",
    "        tscv = TimeSeriesSplit(n_splits=3)\n",
    "        grid = GridSearchCV(model, param_grid, cv=tscv, scoring='neg_mean_absolute_error', n_jobs=-1)\n",
    "        grid.fit(X_train, y_train)\n",
    "\n",
    "        best_model = grid.best_estimator_\n",
    "        # Создаём папку для моделей, если нужно\n",
    "        os.makedirs('models', exist_ok=True)\n",
    "        model_path = f'models/model_{row_id}.joblib'\n",
    "        joblib.dump(best_model, model_path)\n",
    "        \n",
    "        \n",
    "        y_pred = best_model.predict(X_test)\n",
    "\n",
    "        # Обрезка отрицательных прогнозов\n",
    "        y_pred = np.maximum(y_pred, 0)\n",
    "\n",
    "        # Метрики\n",
    "        mae = mean_absolute_error(y_test, y_pred)\n",
    "        wape = np.sum(np.abs(y_test - y_pred)) / (np.sum(np.abs(y_test)) + 1e-5) * 100\n",
    "        smape = 100 * np.mean(np.abs(y_pred - y_test) / ((np.abs(y_test) + np.abs(y_pred)) / 2 + 1e-5))\n",
    "\n",
    "        return {\n",
    "            'row_id': row_id,\n",
    "            'MAE': mae,\n",
    "            'WAPE': wape,\n",
    "            'SMAPE': smape,\n",
    "            'params': grid.best_params_,\n",
    "            'status': 'ok'\n",
    "        }\n",
    "\n",
    "    except Exception as e:\n",
    "        return {'row_id': row_id, 'status': f'error: {e}'}"
   ],
   "metadata": {
    "collapsed": false,
    "ExecuteTime": {
     "end_time": "2025-05-20T15:49:57.350391900Z",
     "start_time": "2025-05-20T15:49:57.310253Z"
    }
   },
   "id": "de9675cee2b59db6",
   "execution_count": 16
  },
  {
   "cell_type": "code",
   "outputs": [
    {
     "name": "stderr",
     "output_type": "stream",
     "text": [
      "[Parallel(n_jobs=-1)]: Using backend LokyBackend with 16 concurrent workers.\n",
      "[Parallel(n_jobs=-1)]: Done   9 tasks      | elapsed:   17.1s\n",
      "[Parallel(n_jobs=-1)]: Done  18 tasks      | elapsed:   27.7s\n",
      "[Parallel(n_jobs=-1)]: Done  29 tasks      | elapsed:   33.3s\n",
      "[Parallel(n_jobs=-1)]: Done  40 tasks      | elapsed:   44.4s\n",
      "[Parallel(n_jobs=-1)]: Done  53 tasks      | elapsed:   56.5s\n",
      "[Parallel(n_jobs=-1)]: Done  66 tasks      | elapsed:  1.2min\n",
      "[Parallel(n_jobs=-1)]: Done  81 tasks      | elapsed:  1.4min\n",
      "[Parallel(n_jobs=-1)]: Done  96 tasks      | elapsed:  1.6min\n",
      "[Parallel(n_jobs=-1)]: Done 113 tasks      | elapsed:  1.8min\n",
      "[Parallel(n_jobs=-1)]: Done 130 tasks      | elapsed:  2.1min\n",
      "[Parallel(n_jobs=-1)]: Done 149 tasks      | elapsed:  2.4min\n",
      "[Parallel(n_jobs=-1)]: Done 168 tasks      | elapsed:  2.7min\n",
      "[Parallel(n_jobs=-1)]: Done 189 tasks      | elapsed:  3.0min\n",
      "[Parallel(n_jobs=-1)]: Done 210 tasks      | elapsed:  3.3min\n",
      "[Parallel(n_jobs=-1)]: Done 233 tasks      | elapsed:  3.6min\n",
      "[Parallel(n_jobs=-1)]: Done 256 tasks      | elapsed:  4.0min\n",
      "[Parallel(n_jobs=-1)]: Done 281 tasks      | elapsed:  4.5min\n",
      "[Parallel(n_jobs=-1)]: Done 306 tasks      | elapsed:  4.9min\n",
      "[Parallel(n_jobs=-1)]: Done 333 tasks      | elapsed:  5.4min\n",
      "[Parallel(n_jobs=-1)]: Done 360 tasks      | elapsed:  5.9min\n",
      "[Parallel(n_jobs=-1)]: Done 389 tasks      | elapsed:  6.4min\n",
      "[Parallel(n_jobs=-1)]: Done 418 tasks      | elapsed:  6.8min\n",
      "[Parallel(n_jobs=-1)]: Done 449 tasks      | elapsed:  7.4min\n",
      "[Parallel(n_jobs=-1)]: Done 480 tasks      | elapsed:  7.9min\n",
      "[Parallel(n_jobs=-1)]: Done 513 tasks      | elapsed:  8.5min\n",
      "[Parallel(n_jobs=-1)]: Done 546 tasks      | elapsed:  9.0min\n",
      "[Parallel(n_jobs=-1)]: Done 602 out of 602 | elapsed:  9.8min finished\n"
     ]
    }
   ],
   "source": [
    "# Получаем все уникальные ряды\n",
    "unique_row_ids = df['row_id'].unique()\n",
    "\n",
    "# Запускаем обработку\n",
    "results = Parallel(n_jobs=-1, verbose=10)(\n",
    "    delayed(process_single_row)(row_id) for row_id in unique_row_ids\n",
    ")\n",
    "\n",
    "# Собираем в DataFrame\n",
    "metrics_df = pd.DataFrame(results)"
   ],
   "metadata": {
    "collapsed": false,
    "ExecuteTime": {
     "end_time": "2025-05-20T16:02:43.346018200Z",
     "start_time": "2025-05-20T15:52:52.560870900Z"
    }
   },
   "id": "b088a35c5d80b51a",
   "execution_count": 17
  },
  {
   "cell_type": "code",
   "outputs": [
    {
     "data": {
      "text/plain": "              row_id         MAE       WAPE       SMAPE  \\\n0      A_a_AC_TP 0.2    0.567235  29.667062   67.886600   \n1      A_a_AC_TP 1.0   34.818678  67.237642   94.743511   \n2     A_a_AD_PET 1.0   38.552308  42.173769   86.844804   \n3     A_b_AA_PET 0.5   14.092477  15.596096   72.397928   \n4     A_b_AA_PET 1.0   11.760786  38.366233  117.012435   \n..               ...         ...        ...         ...   \n597  I_am_AH_PET 1.0   85.233525  31.633612   51.567827   \n598  I_am_AJ_PET 1.0   32.197129  36.491545   56.525742   \n599  I_an_AC_PET 0.3    1.831529  20.611394  104.516797   \n600   I_an_AC_TP 2.0  138.470680  51.588519  110.785929   \n601  I_an_AD_PET 1.0   16.180907  28.617246   88.752791   \n\n                                                params status  \n0    {'colsample_bytree': 0.8, 'learning_rate': 0.1...     ok  \n1    {'colsample_bytree': 0.8, 'learning_rate': 0.0...     ok  \n2    {'colsample_bytree': 0.8, 'learning_rate': 0.0...     ok  \n3    {'colsample_bytree': 1.0, 'learning_rate': 0.1...     ok  \n4    {'colsample_bytree': 1.0, 'learning_rate': 0.1...     ok  \n..                                                 ...    ...  \n597  {'colsample_bytree': 1.0, 'learning_rate': 0.1...     ok  \n598  {'colsample_bytree': 1.0, 'learning_rate': 0.0...     ok  \n599  {'colsample_bytree': 1.0, 'learning_rate': 0.1...     ok  \n600  {'colsample_bytree': 0.8, 'learning_rate': 0.1...     ok  \n601  {'colsample_bytree': 1.0, 'learning_rate': 0.1...     ok  \n\n[602 rows x 6 columns]",
      "text/html": "<div>\n<style scoped>\n    .dataframe tbody tr th:only-of-type {\n        vertical-align: middle;\n    }\n\n    .dataframe tbody tr th {\n        vertical-align: top;\n    }\n\n    .dataframe thead th {\n        text-align: right;\n    }\n</style>\n<table border=\"1\" class=\"dataframe\">\n  <thead>\n    <tr style=\"text-align: right;\">\n      <th></th>\n      <th>row_id</th>\n      <th>MAE</th>\n      <th>WAPE</th>\n      <th>SMAPE</th>\n      <th>params</th>\n      <th>status</th>\n    </tr>\n  </thead>\n  <tbody>\n    <tr>\n      <th>0</th>\n      <td>A_a_AC_TP 0.2</td>\n      <td>0.567235</td>\n      <td>29.667062</td>\n      <td>67.886600</td>\n      <td>{'colsample_bytree': 0.8, 'learning_rate': 0.1...</td>\n      <td>ok</td>\n    </tr>\n    <tr>\n      <th>1</th>\n      <td>A_a_AC_TP 1.0</td>\n      <td>34.818678</td>\n      <td>67.237642</td>\n      <td>94.743511</td>\n      <td>{'colsample_bytree': 0.8, 'learning_rate': 0.0...</td>\n      <td>ok</td>\n    </tr>\n    <tr>\n      <th>2</th>\n      <td>A_a_AD_PET 1.0</td>\n      <td>38.552308</td>\n      <td>42.173769</td>\n      <td>86.844804</td>\n      <td>{'colsample_bytree': 0.8, 'learning_rate': 0.0...</td>\n      <td>ok</td>\n    </tr>\n    <tr>\n      <th>3</th>\n      <td>A_b_AA_PET 0.5</td>\n      <td>14.092477</td>\n      <td>15.596096</td>\n      <td>72.397928</td>\n      <td>{'colsample_bytree': 1.0, 'learning_rate': 0.1...</td>\n      <td>ok</td>\n    </tr>\n    <tr>\n      <th>4</th>\n      <td>A_b_AA_PET 1.0</td>\n      <td>11.760786</td>\n      <td>38.366233</td>\n      <td>117.012435</td>\n      <td>{'colsample_bytree': 1.0, 'learning_rate': 0.1...</td>\n      <td>ok</td>\n    </tr>\n    <tr>\n      <th>...</th>\n      <td>...</td>\n      <td>...</td>\n      <td>...</td>\n      <td>...</td>\n      <td>...</td>\n      <td>...</td>\n    </tr>\n    <tr>\n      <th>597</th>\n      <td>I_am_AH_PET 1.0</td>\n      <td>85.233525</td>\n      <td>31.633612</td>\n      <td>51.567827</td>\n      <td>{'colsample_bytree': 1.0, 'learning_rate': 0.1...</td>\n      <td>ok</td>\n    </tr>\n    <tr>\n      <th>598</th>\n      <td>I_am_AJ_PET 1.0</td>\n      <td>32.197129</td>\n      <td>36.491545</td>\n      <td>56.525742</td>\n      <td>{'colsample_bytree': 1.0, 'learning_rate': 0.0...</td>\n      <td>ok</td>\n    </tr>\n    <tr>\n      <th>599</th>\n      <td>I_an_AC_PET 0.3</td>\n      <td>1.831529</td>\n      <td>20.611394</td>\n      <td>104.516797</td>\n      <td>{'colsample_bytree': 1.0, 'learning_rate': 0.1...</td>\n      <td>ok</td>\n    </tr>\n    <tr>\n      <th>600</th>\n      <td>I_an_AC_TP 2.0</td>\n      <td>138.470680</td>\n      <td>51.588519</td>\n      <td>110.785929</td>\n      <td>{'colsample_bytree': 0.8, 'learning_rate': 0.1...</td>\n      <td>ok</td>\n    </tr>\n    <tr>\n      <th>601</th>\n      <td>I_an_AD_PET 1.0</td>\n      <td>16.180907</td>\n      <td>28.617246</td>\n      <td>88.752791</td>\n      <td>{'colsample_bytree': 1.0, 'learning_rate': 0.1...</td>\n      <td>ok</td>\n    </tr>\n  </tbody>\n</table>\n<p>602 rows × 6 columns</p>\n</div>"
     },
     "execution_count": 18,
     "metadata": {},
     "output_type": "execute_result"
    }
   ],
   "source": [
    "metrics_df"
   ],
   "metadata": {
    "collapsed": false,
    "ExecuteTime": {
     "end_time": "2025-05-20T16:19:11.980751Z",
     "start_time": "2025-05-20T16:19:11.937440500Z"
    }
   },
   "id": "d998ec54a5c777b6",
   "execution_count": 18
  },
  {
   "cell_type": "code",
   "outputs": [
    {
     "data": {
      "text/plain": "               MAE         WAPE       SMAPE  Wape_cliped\ncount   602.000000   602.000000  602.000000   602.000000\nmean     75.128427    53.688279   67.068041    42.466033\nstd     251.555252   163.182392   45.134674    47.520634\nmin       0.000568     0.105515    1.052081     0.105515\n25%       2.640271    17.705339   31.140332    17.705339\n50%      14.163472    29.706610   59.001876    29.706610\n75%      46.601736    47.730084   95.201105    47.730084\nmax    4550.873478  2705.296474  199.523512   300.000000",
      "text/html": "<div>\n<style scoped>\n    .dataframe tbody tr th:only-of-type {\n        vertical-align: middle;\n    }\n\n    .dataframe tbody tr th {\n        vertical-align: top;\n    }\n\n    .dataframe thead th {\n        text-align: right;\n    }\n</style>\n<table border=\"1\" class=\"dataframe\">\n  <thead>\n    <tr style=\"text-align: right;\">\n      <th></th>\n      <th>MAE</th>\n      <th>WAPE</th>\n      <th>SMAPE</th>\n      <th>Wape_cliped</th>\n    </tr>\n  </thead>\n  <tbody>\n    <tr>\n      <th>count</th>\n      <td>602.000000</td>\n      <td>602.000000</td>\n      <td>602.000000</td>\n      <td>602.000000</td>\n    </tr>\n    <tr>\n      <th>mean</th>\n      <td>75.128427</td>\n      <td>53.688279</td>\n      <td>67.068041</td>\n      <td>42.466033</td>\n    </tr>\n    <tr>\n      <th>std</th>\n      <td>251.555252</td>\n      <td>163.182392</td>\n      <td>45.134674</td>\n      <td>47.520634</td>\n    </tr>\n    <tr>\n      <th>min</th>\n      <td>0.000568</td>\n      <td>0.105515</td>\n      <td>1.052081</td>\n      <td>0.105515</td>\n    </tr>\n    <tr>\n      <th>25%</th>\n      <td>2.640271</td>\n      <td>17.705339</td>\n      <td>31.140332</td>\n      <td>17.705339</td>\n    </tr>\n    <tr>\n      <th>50%</th>\n      <td>14.163472</td>\n      <td>29.706610</td>\n      <td>59.001876</td>\n      <td>29.706610</td>\n    </tr>\n    <tr>\n      <th>75%</th>\n      <td>46.601736</td>\n      <td>47.730084</td>\n      <td>95.201105</td>\n      <td>47.730084</td>\n    </tr>\n    <tr>\n      <th>max</th>\n      <td>4550.873478</td>\n      <td>2705.296474</td>\n      <td>199.523512</td>\n      <td>300.000000</td>\n    </tr>\n  </tbody>\n</table>\n</div>"
     },
     "execution_count": 19,
     "metadata": {},
     "output_type": "execute_result"
    }
   ],
   "source": [
    "metrics_df['Wape_cliped'] = metrics_df['WAPE'].clip(upper=300)\n",
    "metrics_df[['MAE', 'WAPE', 'SMAPE', 'Wape_cliped']].describe()"
   ],
   "metadata": {
    "collapsed": false,
    "ExecuteTime": {
     "end_time": "2025-05-20T16:20:11.003427700Z",
     "start_time": "2025-05-20T16:20:10.961626800Z"
    }
   },
   "id": "b91c83184d689caa",
   "execution_count": 19
  },
  {
   "cell_type": "code",
   "outputs": [
    {
     "data": {
      "text/plain": "       week_number  month  quarter      lag_1       lag_2       lag_3  \\\n0                8      2        1  33.294999  135.055995    9.520000   \n1                9      3        1  47.560000   33.294999  135.055995   \n2               10      3        1   2.863000   47.560000   33.294999   \n3               11      3        1   1.912000    2.863000   47.560000   \n4               12      3        1   1.912000    1.912000    2.863000   \n...            ...    ...      ...        ...         ...         ...   \n51683           44     11        4   2.123000    0.010000    0.010000   \n51684           45     11        4   0.010000    2.123000    0.010000   \n51685           46     11        4   0.010000    0.010000    2.123000   \n51686           47     11        4   0.010000    0.010000    0.010000   \n51687           48     11        4  82.424002    0.010000    0.010000   \n\n            lag_4       lag_5  lag_7  rolling_mean_3  rolling_std_3  \\\n0        8.010000    6.010000  0.010       71.970332      55.097398   \n1        9.520000    8.010000  4.010       27.906000      22.830603   \n2      135.055995    9.520000  6.010       17.445000      26.084690   \n3       33.294999  135.055995  8.010        2.229000       0.549060   \n4       47.560000   33.294999  9.520        1.912000       0.000000   \n...           ...         ...    ...             ...            ...   \n51683    2.123000    0.010000  0.010        0.714333       1.219941   \n51684    0.010000    2.123000  0.010        0.714333       1.219941   \n51685    0.010000    0.010000  0.010        0.010000       0.000000   \n51686    2.123000    0.010000  2.123       27.481334      47.581746   \n51687    0.010000    2.123000  0.010       53.542334      46.408603   \n\n       rolling_mean_5  rolling_std_5  rolling_mean_7  rolling_std_7  \\\n0           46.688199      52.121213       34.780142      47.169933   \n1           45.658799      53.117394       34.616285      47.296458   \n2           44.137199      54.502347       34.030856      47.732905   \n3           17.508400      21.524977       33.159714      48.338744   \n4           11.231800      20.312256       32.072856      49.039303   \n...               ...            ...             ...            ...   \n51683        0.855200       1.157338        0.613714       1.031038   \n51684        0.432600       0.944962        0.613714       1.031038   \n51685        0.432600       0.944962        0.613714       1.031038   \n51686       16.915400      36.631850       12.085286      31.026453   \n51687       32.129400      44.006732       23.254286      39.002214   \n\n          trend_3      momentum  \n0       38.040000  1.136327e-01  \n1     -132.192996  4.392351e-01  \n2      -31.382999 -6.666661e-02  \n3      -45.648000 -0.000000e+00  \n4       -0.951000 -0.000000e+00  \n...           ...           ...  \n51683    0.000000 -2.113000e+05  \n51684    0.000000  0.000000e+00  \n51685   -2.113000 -0.000000e+00  \n51686   82.414002  8.241400e+06  \n51687   78.182999 -4.231004e+05  \n\n[51688 rows x 17 columns]",
      "text/html": "<div>\n<style scoped>\n    .dataframe tbody tr th:only-of-type {\n        vertical-align: middle;\n    }\n\n    .dataframe tbody tr th {\n        vertical-align: top;\n    }\n\n    .dataframe thead th {\n        text-align: right;\n    }\n</style>\n<table border=\"1\" class=\"dataframe\">\n  <thead>\n    <tr style=\"text-align: right;\">\n      <th></th>\n      <th>week_number</th>\n      <th>month</th>\n      <th>quarter</th>\n      <th>lag_1</th>\n      <th>lag_2</th>\n      <th>lag_3</th>\n      <th>lag_4</th>\n      <th>lag_5</th>\n      <th>lag_7</th>\n      <th>rolling_mean_3</th>\n      <th>rolling_std_3</th>\n      <th>rolling_mean_5</th>\n      <th>rolling_std_5</th>\n      <th>rolling_mean_7</th>\n      <th>rolling_std_7</th>\n      <th>trend_3</th>\n      <th>momentum</th>\n    </tr>\n  </thead>\n  <tbody>\n    <tr>\n      <th>0</th>\n      <td>8</td>\n      <td>2</td>\n      <td>1</td>\n      <td>33.294999</td>\n      <td>135.055995</td>\n      <td>9.520000</td>\n      <td>8.010000</td>\n      <td>6.010000</td>\n      <td>0.010</td>\n      <td>71.970332</td>\n      <td>55.097398</td>\n      <td>46.688199</td>\n      <td>52.121213</td>\n      <td>34.780142</td>\n      <td>47.169933</td>\n      <td>38.040000</td>\n      <td>1.136327e-01</td>\n    </tr>\n    <tr>\n      <th>1</th>\n      <td>9</td>\n      <td>3</td>\n      <td>1</td>\n      <td>47.560000</td>\n      <td>33.294999</td>\n      <td>135.055995</td>\n      <td>9.520000</td>\n      <td>8.010000</td>\n      <td>4.010</td>\n      <td>27.906000</td>\n      <td>22.830603</td>\n      <td>45.658799</td>\n      <td>53.117394</td>\n      <td>34.616285</td>\n      <td>47.296458</td>\n      <td>-132.192996</td>\n      <td>4.392351e-01</td>\n    </tr>\n    <tr>\n      <th>2</th>\n      <td>10</td>\n      <td>3</td>\n      <td>1</td>\n      <td>2.863000</td>\n      <td>47.560000</td>\n      <td>33.294999</td>\n      <td>135.055995</td>\n      <td>9.520000</td>\n      <td>6.010</td>\n      <td>17.445000</td>\n      <td>26.084690</td>\n      <td>44.137199</td>\n      <td>54.502347</td>\n      <td>34.030856</td>\n      <td>47.732905</td>\n      <td>-31.382999</td>\n      <td>-6.666661e-02</td>\n    </tr>\n    <tr>\n      <th>3</th>\n      <td>11</td>\n      <td>3</td>\n      <td>1</td>\n      <td>1.912000</td>\n      <td>2.863000</td>\n      <td>47.560000</td>\n      <td>33.294999</td>\n      <td>135.055995</td>\n      <td>8.010</td>\n      <td>2.229000</td>\n      <td>0.549060</td>\n      <td>17.508400</td>\n      <td>21.524977</td>\n      <td>33.159714</td>\n      <td>48.338744</td>\n      <td>-45.648000</td>\n      <td>-0.000000e+00</td>\n    </tr>\n    <tr>\n      <th>4</th>\n      <td>12</td>\n      <td>3</td>\n      <td>1</td>\n      <td>1.912000</td>\n      <td>1.912000</td>\n      <td>2.863000</td>\n      <td>47.560000</td>\n      <td>33.294999</td>\n      <td>9.520</td>\n      <td>1.912000</td>\n      <td>0.000000</td>\n      <td>11.231800</td>\n      <td>20.312256</td>\n      <td>32.072856</td>\n      <td>49.039303</td>\n      <td>-0.951000</td>\n      <td>-0.000000e+00</td>\n    </tr>\n    <tr>\n      <th>...</th>\n      <td>...</td>\n      <td>...</td>\n      <td>...</td>\n      <td>...</td>\n      <td>...</td>\n      <td>...</td>\n      <td>...</td>\n      <td>...</td>\n      <td>...</td>\n      <td>...</td>\n      <td>...</td>\n      <td>...</td>\n      <td>...</td>\n      <td>...</td>\n      <td>...</td>\n      <td>...</td>\n      <td>...</td>\n    </tr>\n    <tr>\n      <th>51683</th>\n      <td>44</td>\n      <td>11</td>\n      <td>4</td>\n      <td>2.123000</td>\n      <td>0.010000</td>\n      <td>0.010000</td>\n      <td>2.123000</td>\n      <td>0.010000</td>\n      <td>0.010</td>\n      <td>0.714333</td>\n      <td>1.219941</td>\n      <td>0.855200</td>\n      <td>1.157338</td>\n      <td>0.613714</td>\n      <td>1.031038</td>\n      <td>0.000000</td>\n      <td>-2.113000e+05</td>\n    </tr>\n    <tr>\n      <th>51684</th>\n      <td>45</td>\n      <td>11</td>\n      <td>4</td>\n      <td>0.010000</td>\n      <td>2.123000</td>\n      <td>0.010000</td>\n      <td>0.010000</td>\n      <td>2.123000</td>\n      <td>0.010</td>\n      <td>0.714333</td>\n      <td>1.219941</td>\n      <td>0.432600</td>\n      <td>0.944962</td>\n      <td>0.613714</td>\n      <td>1.031038</td>\n      <td>0.000000</td>\n      <td>0.000000e+00</td>\n    </tr>\n    <tr>\n      <th>51685</th>\n      <td>46</td>\n      <td>11</td>\n      <td>4</td>\n      <td>0.010000</td>\n      <td>0.010000</td>\n      <td>2.123000</td>\n      <td>0.010000</td>\n      <td>0.010000</td>\n      <td>0.010</td>\n      <td>0.010000</td>\n      <td>0.000000</td>\n      <td>0.432600</td>\n      <td>0.944962</td>\n      <td>0.613714</td>\n      <td>1.031038</td>\n      <td>-2.113000</td>\n      <td>-0.000000e+00</td>\n    </tr>\n    <tr>\n      <th>51686</th>\n      <td>47</td>\n      <td>11</td>\n      <td>4</td>\n      <td>0.010000</td>\n      <td>0.010000</td>\n      <td>0.010000</td>\n      <td>2.123000</td>\n      <td>0.010000</td>\n      <td>2.123</td>\n      <td>27.481334</td>\n      <td>47.581746</td>\n      <td>16.915400</td>\n      <td>36.631850</td>\n      <td>12.085286</td>\n      <td>31.026453</td>\n      <td>82.414002</td>\n      <td>8.241400e+06</td>\n    </tr>\n    <tr>\n      <th>51687</th>\n      <td>48</td>\n      <td>11</td>\n      <td>4</td>\n      <td>82.424002</td>\n      <td>0.010000</td>\n      <td>0.010000</td>\n      <td>0.010000</td>\n      <td>2.123000</td>\n      <td>0.010</td>\n      <td>53.542334</td>\n      <td>46.408603</td>\n      <td>32.129400</td>\n      <td>44.006732</td>\n      <td>23.254286</td>\n      <td>39.002214</td>\n      <td>78.182999</td>\n      <td>-4.231004e+05</td>\n    </tr>\n  </tbody>\n</table>\n<p>51688 rows × 17 columns</p>\n</div>"
     },
     "execution_count": 20,
     "metadata": {},
     "output_type": "execute_result"
    }
   ],
   "source": [
    "zzzz = train_df.drop(columns=['fact', 'Week_End_Date', 'row_id',\n",
    "                                         'Territory_code', 'Plant_code', 'Brand_code', 'Package', 'Sum of Plan'], errors='ignore')\n",
    "zzzz"
   ],
   "metadata": {
    "collapsed": false,
    "ExecuteTime": {
     "end_time": "2025-05-20T16:42:15.182635200Z",
     "start_time": "2025-05-20T16:42:15.155335800Z"
    }
   },
   "id": "87382acdf849d0c2",
   "execution_count": 20
  },
  {
   "cell_type": "code",
   "outputs": [],
   "source": [],
   "metadata": {
    "collapsed": false
   },
   "id": "fe25224d2b2ea080"
  },
  {
   "cell_type": "code",
   "outputs": [],
   "source": [],
   "metadata": {
    "collapsed": false
   },
   "id": "bb87ec508b031a74"
  },
  {
   "cell_type": "code",
   "outputs": [],
   "source": [],
   "metadata": {
    "collapsed": false
   },
   "id": "c823df505bf2e02f"
  },
  {
   "cell_type": "code",
   "outputs": [],
   "source": [],
   "metadata": {
    "collapsed": false
   },
   "id": "94db8b51fd8cb145"
  },
  {
   "cell_type": "code",
   "outputs": [],
   "source": [],
   "metadata": {
    "collapsed": false
   },
   "id": "9b21c9793688d5e4"
  },
  {
   "cell_type": "code",
   "outputs": [],
   "source": [],
   "metadata": {
    "collapsed": false
   },
   "id": "f36c77075654bf70"
  },
  {
   "cell_type": "code",
   "outputs": [
    {
     "data": {
      "text/plain": "      Territory_code Plant_code Brand_code  Package Week_End_Date  \\\n0                  A          a         AC   TP 0.2    2023-02-24   \n1                  A          a         AC   TP 0.2    2023-03-03   \n2                  A          a         AC   TP 0.2    2023-03-10   \n3                  A          a         AC   TP 0.2    2023-03-17   \n4                  A          a         AC   TP 0.2    2023-03-24   \n...              ...        ...        ...      ...           ...   \n51683              I         an         AD  PET 1.0    2024-11-01   \n51684              I         an         AD  PET 1.0    2024-11-08   \n51685              I         an         AD  PET 1.0    2024-11-15   \n51686              I         an         AD  PET 1.0    2024-11-22   \n51687              I         an         AD  PET 1.0    2024-11-29   \n\n       Sum of Plan       fact           row_id  week_number  month  ...  \\\n0         9.123000  47.560000    A_a_AC_TP 0.2            8      2  ...   \n1        70.298003   2.863000    A_a_AC_TP 0.2            9      3  ...   \n2         0.165000   1.912000    A_a_AC_TP 0.2           10      3  ...   \n3         0.196000   1.912000    A_a_AC_TP 0.2           11      3  ...   \n4         0.196000   1.912000    A_a_AC_TP 0.2           12      3  ...   \n...            ...        ...              ...          ...    ...  ...   \n51683   171.247923   0.010000  I_an_AD_PET 1.0           44     11  ...   \n51684   163.008797   0.010000  I_an_AD_PET 1.0           45     11  ...   \n51685   163.008797   0.010000  I_an_AD_PET 1.0           46     11  ...   \n51686   163.008797  82.424002  I_an_AD_PET 1.0           47     11  ...   \n51687    54.766687  78.192999  I_an_AD_PET 1.0           48     11  ...   \n\n            lag_5  lag_7  rolling_mean_3  rolling_std_3  rolling_mean_5  \\\n0        6.010000  0.010       71.970332      55.097398       46.688199   \n1        8.010000  4.010       27.906000      22.830603       45.658799   \n2        9.520000  6.010       17.445000      26.084690       44.137199   \n3      135.055995  8.010        2.229000       0.549060       17.508400   \n4       33.294999  9.520        1.912000       0.000000       11.231800   \n...           ...    ...             ...            ...             ...   \n51683    0.010000  0.010        0.714333       1.219941        0.855200   \n51684    2.123000  0.010        0.714333       1.219941        0.432600   \n51685    0.010000  0.010        0.010000       0.000000        0.432600   \n51686    0.010000  2.123       27.481334      47.581746       16.915400   \n51687    2.123000  0.010       53.542334      46.408603       32.129400   \n\n       rolling_std_5  rolling_mean_7  rolling_std_7     trend_3      momentum  \n0          52.121213       34.780142      47.169933   38.040000  1.136327e-01  \n1          53.117394       34.616285      47.296458 -132.192996  4.392351e-01  \n2          54.502347       34.030856      47.732905  -31.382999 -6.666661e-02  \n3          21.524977       33.159714      48.338744  -45.648000 -0.000000e+00  \n4          20.312256       32.072856      49.039303   -0.951000 -0.000000e+00  \n...              ...             ...            ...         ...           ...  \n51683       1.157338        0.613714       1.031038    0.000000 -2.113000e+05  \n51684       0.944962        0.613714       1.031038    0.000000  0.000000e+00  \n51685       0.944962        0.613714       1.031038   -2.113000 -0.000000e+00  \n51686      36.631850       12.085286      31.026453   82.414002  8.241400e+06  \n51687      44.006732       23.254286      39.002214   78.182999 -4.231004e+05  \n\n[51688 rows x 25 columns]",
      "text/html": "<div>\n<style scoped>\n    .dataframe tbody tr th:only-of-type {\n        vertical-align: middle;\n    }\n\n    .dataframe tbody tr th {\n        vertical-align: top;\n    }\n\n    .dataframe thead th {\n        text-align: right;\n    }\n</style>\n<table border=\"1\" class=\"dataframe\">\n  <thead>\n    <tr style=\"text-align: right;\">\n      <th></th>\n      <th>Territory_code</th>\n      <th>Plant_code</th>\n      <th>Brand_code</th>\n      <th>Package</th>\n      <th>Week_End_Date</th>\n      <th>Sum of Plan</th>\n      <th>fact</th>\n      <th>row_id</th>\n      <th>week_number</th>\n      <th>month</th>\n      <th>...</th>\n      <th>lag_5</th>\n      <th>lag_7</th>\n      <th>rolling_mean_3</th>\n      <th>rolling_std_3</th>\n      <th>rolling_mean_5</th>\n      <th>rolling_std_5</th>\n      <th>rolling_mean_7</th>\n      <th>rolling_std_7</th>\n      <th>trend_3</th>\n      <th>momentum</th>\n    </tr>\n  </thead>\n  <tbody>\n    <tr>\n      <th>0</th>\n      <td>A</td>\n      <td>a</td>\n      <td>AC</td>\n      <td>TP 0.2</td>\n      <td>2023-02-24</td>\n      <td>9.123000</td>\n      <td>47.560000</td>\n      <td>A_a_AC_TP 0.2</td>\n      <td>8</td>\n      <td>2</td>\n      <td>...</td>\n      <td>6.010000</td>\n      <td>0.010</td>\n      <td>71.970332</td>\n      <td>55.097398</td>\n      <td>46.688199</td>\n      <td>52.121213</td>\n      <td>34.780142</td>\n      <td>47.169933</td>\n      <td>38.040000</td>\n      <td>1.136327e-01</td>\n    </tr>\n    <tr>\n      <th>1</th>\n      <td>A</td>\n      <td>a</td>\n      <td>AC</td>\n      <td>TP 0.2</td>\n      <td>2023-03-03</td>\n      <td>70.298003</td>\n      <td>2.863000</td>\n      <td>A_a_AC_TP 0.2</td>\n      <td>9</td>\n      <td>3</td>\n      <td>...</td>\n      <td>8.010000</td>\n      <td>4.010</td>\n      <td>27.906000</td>\n      <td>22.830603</td>\n      <td>45.658799</td>\n      <td>53.117394</td>\n      <td>34.616285</td>\n      <td>47.296458</td>\n      <td>-132.192996</td>\n      <td>4.392351e-01</td>\n    </tr>\n    <tr>\n      <th>2</th>\n      <td>A</td>\n      <td>a</td>\n      <td>AC</td>\n      <td>TP 0.2</td>\n      <td>2023-03-10</td>\n      <td>0.165000</td>\n      <td>1.912000</td>\n      <td>A_a_AC_TP 0.2</td>\n      <td>10</td>\n      <td>3</td>\n      <td>...</td>\n      <td>9.520000</td>\n      <td>6.010</td>\n      <td>17.445000</td>\n      <td>26.084690</td>\n      <td>44.137199</td>\n      <td>54.502347</td>\n      <td>34.030856</td>\n      <td>47.732905</td>\n      <td>-31.382999</td>\n      <td>-6.666661e-02</td>\n    </tr>\n    <tr>\n      <th>3</th>\n      <td>A</td>\n      <td>a</td>\n      <td>AC</td>\n      <td>TP 0.2</td>\n      <td>2023-03-17</td>\n      <td>0.196000</td>\n      <td>1.912000</td>\n      <td>A_a_AC_TP 0.2</td>\n      <td>11</td>\n      <td>3</td>\n      <td>...</td>\n      <td>135.055995</td>\n      <td>8.010</td>\n      <td>2.229000</td>\n      <td>0.549060</td>\n      <td>17.508400</td>\n      <td>21.524977</td>\n      <td>33.159714</td>\n      <td>48.338744</td>\n      <td>-45.648000</td>\n      <td>-0.000000e+00</td>\n    </tr>\n    <tr>\n      <th>4</th>\n      <td>A</td>\n      <td>a</td>\n      <td>AC</td>\n      <td>TP 0.2</td>\n      <td>2023-03-24</td>\n      <td>0.196000</td>\n      <td>1.912000</td>\n      <td>A_a_AC_TP 0.2</td>\n      <td>12</td>\n      <td>3</td>\n      <td>...</td>\n      <td>33.294999</td>\n      <td>9.520</td>\n      <td>1.912000</td>\n      <td>0.000000</td>\n      <td>11.231800</td>\n      <td>20.312256</td>\n      <td>32.072856</td>\n      <td>49.039303</td>\n      <td>-0.951000</td>\n      <td>-0.000000e+00</td>\n    </tr>\n    <tr>\n      <th>...</th>\n      <td>...</td>\n      <td>...</td>\n      <td>...</td>\n      <td>...</td>\n      <td>...</td>\n      <td>...</td>\n      <td>...</td>\n      <td>...</td>\n      <td>...</td>\n      <td>...</td>\n      <td>...</td>\n      <td>...</td>\n      <td>...</td>\n      <td>...</td>\n      <td>...</td>\n      <td>...</td>\n      <td>...</td>\n      <td>...</td>\n      <td>...</td>\n      <td>...</td>\n      <td>...</td>\n    </tr>\n    <tr>\n      <th>51683</th>\n      <td>I</td>\n      <td>an</td>\n      <td>AD</td>\n      <td>PET 1.0</td>\n      <td>2024-11-01</td>\n      <td>171.247923</td>\n      <td>0.010000</td>\n      <td>I_an_AD_PET 1.0</td>\n      <td>44</td>\n      <td>11</td>\n      <td>...</td>\n      <td>0.010000</td>\n      <td>0.010</td>\n      <td>0.714333</td>\n      <td>1.219941</td>\n      <td>0.855200</td>\n      <td>1.157338</td>\n      <td>0.613714</td>\n      <td>1.031038</td>\n      <td>0.000000</td>\n      <td>-2.113000e+05</td>\n    </tr>\n    <tr>\n      <th>51684</th>\n      <td>I</td>\n      <td>an</td>\n      <td>AD</td>\n      <td>PET 1.0</td>\n      <td>2024-11-08</td>\n      <td>163.008797</td>\n      <td>0.010000</td>\n      <td>I_an_AD_PET 1.0</td>\n      <td>45</td>\n      <td>11</td>\n      <td>...</td>\n      <td>2.123000</td>\n      <td>0.010</td>\n      <td>0.714333</td>\n      <td>1.219941</td>\n      <td>0.432600</td>\n      <td>0.944962</td>\n      <td>0.613714</td>\n      <td>1.031038</td>\n      <td>0.000000</td>\n      <td>0.000000e+00</td>\n    </tr>\n    <tr>\n      <th>51685</th>\n      <td>I</td>\n      <td>an</td>\n      <td>AD</td>\n      <td>PET 1.0</td>\n      <td>2024-11-15</td>\n      <td>163.008797</td>\n      <td>0.010000</td>\n      <td>I_an_AD_PET 1.0</td>\n      <td>46</td>\n      <td>11</td>\n      <td>...</td>\n      <td>0.010000</td>\n      <td>0.010</td>\n      <td>0.010000</td>\n      <td>0.000000</td>\n      <td>0.432600</td>\n      <td>0.944962</td>\n      <td>0.613714</td>\n      <td>1.031038</td>\n      <td>-2.113000</td>\n      <td>-0.000000e+00</td>\n    </tr>\n    <tr>\n      <th>51686</th>\n      <td>I</td>\n      <td>an</td>\n      <td>AD</td>\n      <td>PET 1.0</td>\n      <td>2024-11-22</td>\n      <td>163.008797</td>\n      <td>82.424002</td>\n      <td>I_an_AD_PET 1.0</td>\n      <td>47</td>\n      <td>11</td>\n      <td>...</td>\n      <td>0.010000</td>\n      <td>2.123</td>\n      <td>27.481334</td>\n      <td>47.581746</td>\n      <td>16.915400</td>\n      <td>36.631850</td>\n      <td>12.085286</td>\n      <td>31.026453</td>\n      <td>82.414002</td>\n      <td>8.241400e+06</td>\n    </tr>\n    <tr>\n      <th>51687</th>\n      <td>I</td>\n      <td>an</td>\n      <td>AD</td>\n      <td>PET 1.0</td>\n      <td>2024-11-29</td>\n      <td>54.766687</td>\n      <td>78.192999</td>\n      <td>I_an_AD_PET 1.0</td>\n      <td>48</td>\n      <td>11</td>\n      <td>...</td>\n      <td>2.123000</td>\n      <td>0.010</td>\n      <td>53.542334</td>\n      <td>46.408603</td>\n      <td>32.129400</td>\n      <td>44.006732</td>\n      <td>23.254286</td>\n      <td>39.002214</td>\n      <td>78.182999</td>\n      <td>-4.231004e+05</td>\n    </tr>\n  </tbody>\n</table>\n<p>51688 rows × 25 columns</p>\n</div>"
     },
     "execution_count": 9,
     "metadata": {},
     "output_type": "execute_result"
    }
   ],
   "source": [
    "train_df"
   ],
   "metadata": {
    "collapsed": false,
    "ExecuteTime": {
     "end_time": "2025-06-02T14:53:40.579369100Z",
     "start_time": "2025-06-02T14:53:40.542036700Z"
    }
   },
   "id": "313d2814d64385ef",
   "execution_count": 9
  },
  {
   "cell_type": "code",
   "outputs": [
    {
     "data": {
      "text/plain": "     Territory_code Plant_code Brand_code  Package Week_End_Date  Sum of Plan  \\\n0                 A          a         AC   TP 0.2    2024-12-06     0.000000   \n1                 A          a         AC   TP 0.2    2024-12-13    12.501315   \n2                 A          a         AC   TP 0.2    2024-12-20    12.501315   \n3                 A          a         AC   TP 0.2    2024-12-27     7.500789   \n4                 A          a         AC   TP 1.0    2024-12-06     0.000000   \n...             ...        ...        ...      ...           ...          ...   \n2403              I         an         AC   TP 2.0    2024-12-27    60.227004   \n2404              I         an         AD  PET 1.0    2024-12-06    65.133425   \n2405              I         an         AD  PET 1.0    2024-12-13    59.458602   \n2406              I         an         AD  PET 1.0    2024-12-20    77.697035   \n2407              I         an         AD  PET 1.0    2024-12-27    38.618049   \n\n            fact           row_id  week_number  month  ...      lag_5  \\\n0       0.010000    A_a_AC_TP 0.2           49     12  ...   4.765000   \n1       2.863000    A_a_AC_TP 0.2           50     12  ...   3.814000   \n2       3.814000    A_a_AC_TP 0.2           51     12  ...   0.961000   \n3       0.961000    A_a_AC_TP 0.2           52     12  ...   2.863000   \n4       0.010000    A_a_AC_TP 1.0           49     12  ...   0.010000   \n...          ...              ...          ...    ...  ...        ...   \n2403    4.236000   I_an_AC_TP 2.0           52     12  ...   0.010000   \n2404  171.193998  I_an_AD_PET 1.0           49     12  ...   0.010000   \n2405   46.503001  I_an_AD_PET 1.0           50     12  ...   0.010000   \n2406    8.463000  I_an_AD_PET 1.0           51     12  ...   0.010000   \n2407    0.010000  I_an_AD_PET 1.0           52     12  ...  82.424002   \n\n          lag_7  rolling_mean_3  rolling_std_3  rolling_mean_5  rolling_std_5  \\\n0      5.716000        1.912000       1.647180        2.102200       1.562652   \n1      0.010000        1.912000       1.647180        1.912000       1.344917   \n2      4.765000        2.229000       1.979664        2.482600       1.442263   \n3      3.814000        2.546000       1.452676        2.102200       1.562652   \n4     23.252999      105.674334     123.153775       63.408600     104.560564   \n...         ...             ...            ...             ...            ...   \n2403   4.236000      105.680336     179.379013      214.732999     331.576569   \n2404   0.010000      110.603666      52.515394       66.366200      71.050834   \n2405   2.123000       98.629999      64.809061       75.664800      62.753417   \n2406   0.010000       75.386666      85.123698       77.355400      60.270449   \n2407   0.010000       18.325334      24.765884       60.872600      69.152575   \n\n      rolling_mean_7  rolling_std_7     trend_3       momentum  \n0           2.183714       1.879221   -0.951000      -1.499992  \n1           2.591286       1.620824    0.000000  285299.992561  \n2           2.455429       1.437777    0.951000      -0.333335  \n3           2.047857       1.392121    0.951000      -0.999996  \n4          55.256714      88.812530    0.000000      -0.315777  \n...              ...            ...         ...            ...  \n2403      153.383571     290.298051 -752.377989      -0.009522  \n2404       47.709143      66.189900  171.183998       1.128461  \n2405       54.049143      63.151414  -35.921001      29.470853  \n2406       55.256714      62.016485  -69.729999      -0.409028  \n2407       55.256714      62.016485 -171.183998       0.067792  \n\n[2408 rows x 25 columns]",
      "text/html": "<div>\n<style scoped>\n    .dataframe tbody tr th:only-of-type {\n        vertical-align: middle;\n    }\n\n    .dataframe tbody tr th {\n        vertical-align: top;\n    }\n\n    .dataframe thead th {\n        text-align: right;\n    }\n</style>\n<table border=\"1\" class=\"dataframe\">\n  <thead>\n    <tr style=\"text-align: right;\">\n      <th></th>\n      <th>Territory_code</th>\n      <th>Plant_code</th>\n      <th>Brand_code</th>\n      <th>Package</th>\n      <th>Week_End_Date</th>\n      <th>Sum of Plan</th>\n      <th>fact</th>\n      <th>row_id</th>\n      <th>week_number</th>\n      <th>month</th>\n      <th>...</th>\n      <th>lag_5</th>\n      <th>lag_7</th>\n      <th>rolling_mean_3</th>\n      <th>rolling_std_3</th>\n      <th>rolling_mean_5</th>\n      <th>rolling_std_5</th>\n      <th>rolling_mean_7</th>\n      <th>rolling_std_7</th>\n      <th>trend_3</th>\n      <th>momentum</th>\n    </tr>\n  </thead>\n  <tbody>\n    <tr>\n      <th>0</th>\n      <td>A</td>\n      <td>a</td>\n      <td>AC</td>\n      <td>TP 0.2</td>\n      <td>2024-12-06</td>\n      <td>0.000000</td>\n      <td>0.010000</td>\n      <td>A_a_AC_TP 0.2</td>\n      <td>49</td>\n      <td>12</td>\n      <td>...</td>\n      <td>4.765000</td>\n      <td>5.716000</td>\n      <td>1.912000</td>\n      <td>1.647180</td>\n      <td>2.102200</td>\n      <td>1.562652</td>\n      <td>2.183714</td>\n      <td>1.879221</td>\n      <td>-0.951000</td>\n      <td>-1.499992</td>\n    </tr>\n    <tr>\n      <th>1</th>\n      <td>A</td>\n      <td>a</td>\n      <td>AC</td>\n      <td>TP 0.2</td>\n      <td>2024-12-13</td>\n      <td>12.501315</td>\n      <td>2.863000</td>\n      <td>A_a_AC_TP 0.2</td>\n      <td>50</td>\n      <td>12</td>\n      <td>...</td>\n      <td>3.814000</td>\n      <td>0.010000</td>\n      <td>1.912000</td>\n      <td>1.647180</td>\n      <td>1.912000</td>\n      <td>1.344917</td>\n      <td>2.591286</td>\n      <td>1.620824</td>\n      <td>0.000000</td>\n      <td>285299.992561</td>\n    </tr>\n    <tr>\n      <th>2</th>\n      <td>A</td>\n      <td>a</td>\n      <td>AC</td>\n      <td>TP 0.2</td>\n      <td>2024-12-20</td>\n      <td>12.501315</td>\n      <td>3.814000</td>\n      <td>A_a_AC_TP 0.2</td>\n      <td>51</td>\n      <td>12</td>\n      <td>...</td>\n      <td>0.961000</td>\n      <td>4.765000</td>\n      <td>2.229000</td>\n      <td>1.979664</td>\n      <td>2.482600</td>\n      <td>1.442263</td>\n      <td>2.455429</td>\n      <td>1.437777</td>\n      <td>0.951000</td>\n      <td>-0.333335</td>\n    </tr>\n    <tr>\n      <th>3</th>\n      <td>A</td>\n      <td>a</td>\n      <td>AC</td>\n      <td>TP 0.2</td>\n      <td>2024-12-27</td>\n      <td>7.500789</td>\n      <td>0.961000</td>\n      <td>A_a_AC_TP 0.2</td>\n      <td>52</td>\n      <td>12</td>\n      <td>...</td>\n      <td>2.863000</td>\n      <td>3.814000</td>\n      <td>2.546000</td>\n      <td>1.452676</td>\n      <td>2.102200</td>\n      <td>1.562652</td>\n      <td>2.047857</td>\n      <td>1.392121</td>\n      <td>0.951000</td>\n      <td>-0.999996</td>\n    </tr>\n    <tr>\n      <th>4</th>\n      <td>A</td>\n      <td>a</td>\n      <td>AC</td>\n      <td>TP 1.0</td>\n      <td>2024-12-06</td>\n      <td>0.000000</td>\n      <td>0.010000</td>\n      <td>A_a_AC_TP 1.0</td>\n      <td>49</td>\n      <td>12</td>\n      <td>...</td>\n      <td>0.010000</td>\n      <td>23.252999</td>\n      <td>105.674334</td>\n      <td>123.153775</td>\n      <td>63.408600</td>\n      <td>104.560564</td>\n      <td>55.256714</td>\n      <td>88.812530</td>\n      <td>0.000000</td>\n      <td>-0.315777</td>\n    </tr>\n    <tr>\n      <th>...</th>\n      <td>...</td>\n      <td>...</td>\n      <td>...</td>\n      <td>...</td>\n      <td>...</td>\n      <td>...</td>\n      <td>...</td>\n      <td>...</td>\n      <td>...</td>\n      <td>...</td>\n      <td>...</td>\n      <td>...</td>\n      <td>...</td>\n      <td>...</td>\n      <td>...</td>\n      <td>...</td>\n      <td>...</td>\n      <td>...</td>\n      <td>...</td>\n      <td>...</td>\n      <td>...</td>\n    </tr>\n    <tr>\n      <th>2403</th>\n      <td>I</td>\n      <td>an</td>\n      <td>AC</td>\n      <td>TP 2.0</td>\n      <td>2024-12-27</td>\n      <td>60.227004</td>\n      <td>4.236000</td>\n      <td>I_an_AC_TP 2.0</td>\n      <td>52</td>\n      <td>12</td>\n      <td>...</td>\n      <td>0.010000</td>\n      <td>4.236000</td>\n      <td>105.680336</td>\n      <td>179.379013</td>\n      <td>214.732999</td>\n      <td>331.576569</td>\n      <td>153.383571</td>\n      <td>290.298051</td>\n      <td>-752.377989</td>\n      <td>-0.009522</td>\n    </tr>\n    <tr>\n      <th>2404</th>\n      <td>I</td>\n      <td>an</td>\n      <td>AD</td>\n      <td>PET 1.0</td>\n      <td>2024-12-06</td>\n      <td>65.133425</td>\n      <td>171.193998</td>\n      <td>I_an_AD_PET 1.0</td>\n      <td>49</td>\n      <td>12</td>\n      <td>...</td>\n      <td>0.010000</td>\n      <td>0.010000</td>\n      <td>110.603666</td>\n      <td>52.515394</td>\n      <td>66.366200</td>\n      <td>71.050834</td>\n      <td>47.709143</td>\n      <td>66.189900</td>\n      <td>171.183998</td>\n      <td>1.128461</td>\n    </tr>\n    <tr>\n      <th>2405</th>\n      <td>I</td>\n      <td>an</td>\n      <td>AD</td>\n      <td>PET 1.0</td>\n      <td>2024-12-13</td>\n      <td>59.458602</td>\n      <td>46.503001</td>\n      <td>I_an_AD_PET 1.0</td>\n      <td>50</td>\n      <td>12</td>\n      <td>...</td>\n      <td>0.010000</td>\n      <td>2.123000</td>\n      <td>98.629999</td>\n      <td>64.809061</td>\n      <td>75.664800</td>\n      <td>62.753417</td>\n      <td>54.049143</td>\n      <td>63.151414</td>\n      <td>-35.921001</td>\n      <td>29.470853</td>\n    </tr>\n    <tr>\n      <th>2406</th>\n      <td>I</td>\n      <td>an</td>\n      <td>AD</td>\n      <td>PET 1.0</td>\n      <td>2024-12-20</td>\n      <td>77.697035</td>\n      <td>8.463000</td>\n      <td>I_an_AD_PET 1.0</td>\n      <td>51</td>\n      <td>12</td>\n      <td>...</td>\n      <td>0.010000</td>\n      <td>0.010000</td>\n      <td>75.386666</td>\n      <td>85.123698</td>\n      <td>77.355400</td>\n      <td>60.270449</td>\n      <td>55.256714</td>\n      <td>62.016485</td>\n      <td>-69.729999</td>\n      <td>-0.409028</td>\n    </tr>\n    <tr>\n      <th>2407</th>\n      <td>I</td>\n      <td>an</td>\n      <td>AD</td>\n      <td>PET 1.0</td>\n      <td>2024-12-27</td>\n      <td>38.618049</td>\n      <td>0.010000</td>\n      <td>I_an_AD_PET 1.0</td>\n      <td>52</td>\n      <td>12</td>\n      <td>...</td>\n      <td>82.424002</td>\n      <td>0.010000</td>\n      <td>18.325334</td>\n      <td>24.765884</td>\n      <td>60.872600</td>\n      <td>69.152575</td>\n      <td>55.256714</td>\n      <td>62.016485</td>\n      <td>-171.183998</td>\n      <td>0.067792</td>\n    </tr>\n  </tbody>\n</table>\n<p>2408 rows × 25 columns</p>\n</div>"
     },
     "execution_count": 8,
     "metadata": {},
     "output_type": "execute_result"
    }
   ],
   "source": [
    "test_df"
   ],
   "metadata": {
    "collapsed": false,
    "ExecuteTime": {
     "end_time": "2025-06-02T14:53:38.653296200Z",
     "start_time": "2025-06-02T14:53:38.636657500Z"
    }
   },
   "id": "69704d38e697074c",
   "execution_count": 8
  },
  {
   "cell_type": "code",
   "outputs": [],
   "source": [
    "row_id = 'E_u_AD_PET 0.5'\n",
    "model_path = f'models/model_{row_id}.joblib'\n",
    "model = joblib.load(model_path)"
   ],
   "metadata": {
    "collapsed": false,
    "ExecuteTime": {
     "end_time": "2025-06-02T15:06:04.211158Z",
     "start_time": "2025-06-02T15:06:04.153640200Z"
    }
   },
   "id": "74332323e7200b35",
   "execution_count": 22
  },
  {
   "cell_type": "code",
   "outputs": [],
   "source": [
    "test_row = test_df[test_df['row_id'] == row_id].copy()\n",
    "test_row = test_row.sort_values('Week_End_Date')"
   ],
   "metadata": {
    "collapsed": false,
    "ExecuteTime": {
     "end_time": "2025-06-02T15:06:05.021385900Z",
     "start_time": "2025-06-02T15:06:05.011240900Z"
    }
   },
   "id": "8b0d320974756afd",
   "execution_count": 23
  },
  {
   "cell_type": "code",
   "outputs": [],
   "source": [
    "feature_cols = [\n",
    "    'week_number', 'month', 'quarter', 'lag_1', 'lag_2', 'lag_3', 'lag_4',\n",
    "    'lag_5', 'lag_7', 'rolling_mean_3', 'rolling_std_3', 'rolling_mean_5',\n",
    "    'rolling_std_5', 'rolling_mean_7', 'rolling_std_7', 'trend_3',\n",
    "    'momentum'\n",
    "]\n",
    "X_test = test_row[feature_cols]\n",
    "y_true = test_row['fact'].values"
   ],
   "metadata": {
    "collapsed": false,
    "ExecuteTime": {
     "end_time": "2025-06-02T15:06:05.839890500Z",
     "start_time": "2025-06-02T15:06:05.828646800Z"
    }
   },
   "id": "e8f7eac08493d6d5",
   "execution_count": 24
  },
  {
   "cell_type": "code",
   "outputs": [],
   "source": [
    "from scipy.stats import t"
   ],
   "metadata": {
    "collapsed": false,
    "ExecuteTime": {
     "end_time": "2025-06-02T15:06:06.245921900Z",
     "start_time": "2025-06-02T15:06:06.239412900Z"
    }
   },
   "id": "24b630d6e2753a27",
   "execution_count": 25
  },
  {
   "cell_type": "code",
   "outputs": [
    {
     "name": "stdout",
     "output_type": "stream",
     "text": [
      "WAPE по неделям: [15.54841075 79.41194096 14.28661143 18.0638033 ]\n",
      "Mean WAPE: 31.83%\n",
      "95% CI: [-18.71%; 82.37%]\n"
     ]
    }
   ],
   "source": [
    "y_pred = model.predict(X_test)\n",
    "\n",
    "wapes = np.abs(y_true - y_pred) / np.abs(y_true) * 100\n",
    "\n",
    "mean_wape = np.mean(wapes)\n",
    "std_wape = np.std(wapes, ddof=1)\n",
    "n = len(wapes)\n",
    "t_crit = t.ppf(0.975, df=n-1)\n",
    "ci_low = mean_wape - t_crit * std_wape / np.sqrt(n)\n",
    "ci_high = mean_wape + t_crit * std_wape / np.sqrt(n)\n",
    "\n",
    "print('WAPE по неделям:', wapes)\n",
    "print(f\"Mean WAPE: {mean_wape:.2f}%\")\n",
    "print(f\"95% CI: [{ci_low:.2f}%; {ci_high:.2f}%]\")"
   ],
   "metadata": {
    "collapsed": false,
    "ExecuteTime": {
     "end_time": "2025-06-02T15:06:07.086759800Z",
     "start_time": "2025-06-02T15:06:07.073694500Z"
    }
   },
   "id": "9e3aee7293e50746",
   "execution_count": 26
  },
  {
   "cell_type": "code",
   "outputs": [
    {
     "data": {
      "text/plain": "array([ 49.974228,  60.675323, 111.1083  ,  95.2369  ], dtype=float32)"
     },
     "execution_count": 27,
     "metadata": {},
     "output_type": "execute_result"
    }
   ],
   "source": [
    "y_pred"
   ],
   "metadata": {
    "collapsed": false,
    "ExecuteTime": {
     "end_time": "2025-06-02T15:06:38.447416800Z",
     "start_time": "2025-06-02T15:06:38.437029700Z"
    }
   },
   "id": "c1435a2aab963352",
   "execution_count": 27
  },
  {
   "cell_type": "code",
   "outputs": [
    {
     "data": {
      "text/plain": "array([ 59.17499996,  33.81899954,  97.21899868, 116.233001  ])"
     },
     "execution_count": 29,
     "metadata": {},
     "output_type": "execute_result"
    }
   ],
   "source": [
    "y_true"
   ],
   "metadata": {
    "collapsed": false,
    "ExecuteTime": {
     "end_time": "2025-06-02T15:06:56.506479300Z",
     "start_time": "2025-06-02T15:06:56.474806600Z"
    }
   },
   "id": "77cc78cba70f283b",
   "execution_count": 29
  },
  {
   "cell_type": "code",
   "outputs": [],
   "source": [],
   "metadata": {
    "collapsed": false
   },
   "id": "b003dc2ceb918d23"
  },
  {
   "cell_type": "code",
   "outputs": [],
   "source": [
    "row_ids_CI = [\n",
    "    'E_u_AD_PET 0.5',\n",
    "    'I_am_AE_PET 0.45',\n",
    "    'A_c_AJ_PET 0.5',\n",
    "    'D_o_AC_TP 0.2',\n",
    "    'I_am_AA_PET 0.5'\n",
    "]"
   ],
   "metadata": {
    "collapsed": false,
    "ExecuteTime": {
     "end_time": "2025-06-02T15:54:27.205594900Z",
     "start_time": "2025-06-02T15:54:27.192166600Z"
    }
   },
   "id": "996ae4c77349361d",
   "execution_count": 30
  },
  {
   "cell_type": "code",
   "outputs": [],
   "source": [
    "results_CI = []\n",
    "for row_id in row_ids_CI:\n",
    "    # Загрузка модели\n",
    "    model_path = f'models/model_{row_id}.joblib'\n",
    "    model = joblib.load(model_path)\n",
    "\n",
    "    # Получение строк по ряду\n",
    "    test_row = test_df[test_df['row_id'] == row_id].copy().sort_values('Week_End_Date')\n",
    "\n",
    "    feature_cols = [\n",
    "    'week_number', 'month', 'quarter', 'lag_1', 'lag_2', 'lag_3', 'lag_4',\n",
    "    'lag_5', 'lag_7', 'rolling_mean_3', 'rolling_std_3', 'rolling_mean_5',\n",
    "    'rolling_std_5', 'rolling_mean_7', 'rolling_std_7', 'trend_3',\n",
    "    'momentum']\n",
    "    X_test = test_row[feature_cols]\n",
    "    y_true = test_row['fact'].values\n",
    "    y_pred = model.predict(X_test)\n",
    "\n",
    "    # WAPE по неделям\n",
    "    wapes = np.abs(y_true - y_pred) / np.abs(y_true) * 100\n",
    "    # Обрезаем выбросы (wape > 60%)\n",
    "    wapes_no_outliers = wapes[wapes <= 80]\n",
    "    \n",
    "    mean_wape = np.mean(wapes_no_outliers)\n",
    "    \n",
    "    if len(wapes_no_outliers) > 1:\n",
    "        std_wape = np.std(wapes_no_outliers, ddof=1)\n",
    "        n = len(wapes_no_outliers)\n",
    "        t_crit = t.ppf(0.975, df=n-1)\n",
    "        ci_low = mean_wape - t_crit * std_wape / np.sqrt(n)\n",
    "        ci_high = mean_wape + t_crit * std_wape / np.sqrt(n)\n",
    "        ci_low = max(0, ci_low)\n",
    "        ci_high = min(300, ci_high)\n",
    "    else:\n",
    "        ci_low = None\n",
    "        ci_high = None\n",
    "\n",
    "    results_CI.append({\n",
    "        'row_id': row_id,\n",
    "        'Mean WAPE': round(mean_wape, 2),\n",
    "        '95% CI lower': round(ci_low, 2),\n",
    "        '95% CI upper': round(ci_high, 2),\n",
    "        'WAPE по неделям': np.round(wapes, 2)\n",
    "    })"
   ],
   "metadata": {
    "collapsed": false,
    "ExecuteTime": {
     "end_time": "2025-06-02T19:17:06.188490400Z",
     "start_time": "2025-06-02T19:17:06.122373100Z"
    }
   },
   "id": "5db0b812c98af064",
   "execution_count": 60
  },
  {
   "cell_type": "code",
   "outputs": [
    {
     "data": {
      "text/plain": "             row_id  Mean WAPE  95% CI lower  95% CI upper  \\\n0    E_u_AD_PET 0.5      31.83             0         82.37   \n1  I_am_AE_PET 0.45      11.79             0         42.71   \n2    A_c_AJ_PET 0.5      40.47             0        125.80   \n3     D_o_AC_TP 0.2      16.31             0         59.26   \n4   I_am_AA_PET 0.5      32.69             0        112.20   \n\n                    WAPE по неделям  \n0      [15.55, 79.41, 14.29, 18.06]  \n1     [26.13, 5.51, 3.73, 87316.42]  \n2      [0.99, 63.56, 56.85, 548.84]  \n3         [36.27, 6.75, 98.17, 5.9]  \n4  [129.74, 26.43, 38.94, 30660.52]  ",
      "text/html": "<div>\n<style scoped>\n    .dataframe tbody tr th:only-of-type {\n        vertical-align: middle;\n    }\n\n    .dataframe tbody tr th {\n        vertical-align: top;\n    }\n\n    .dataframe thead th {\n        text-align: right;\n    }\n</style>\n<table border=\"1\" class=\"dataframe\">\n  <thead>\n    <tr style=\"text-align: right;\">\n      <th></th>\n      <th>row_id</th>\n      <th>Mean WAPE</th>\n      <th>95% CI lower</th>\n      <th>95% CI upper</th>\n      <th>WAPE по неделям</th>\n    </tr>\n  </thead>\n  <tbody>\n    <tr>\n      <th>0</th>\n      <td>E_u_AD_PET 0.5</td>\n      <td>31.83</td>\n      <td>0</td>\n      <td>82.37</td>\n      <td>[15.55, 79.41, 14.29, 18.06]</td>\n    </tr>\n    <tr>\n      <th>1</th>\n      <td>I_am_AE_PET 0.45</td>\n      <td>11.79</td>\n      <td>0</td>\n      <td>42.71</td>\n      <td>[26.13, 5.51, 3.73, 87316.42]</td>\n    </tr>\n    <tr>\n      <th>2</th>\n      <td>A_c_AJ_PET 0.5</td>\n      <td>40.47</td>\n      <td>0</td>\n      <td>125.80</td>\n      <td>[0.99, 63.56, 56.85, 548.84]</td>\n    </tr>\n    <tr>\n      <th>3</th>\n      <td>D_o_AC_TP 0.2</td>\n      <td>16.31</td>\n      <td>0</td>\n      <td>59.26</td>\n      <td>[36.27, 6.75, 98.17, 5.9]</td>\n    </tr>\n    <tr>\n      <th>4</th>\n      <td>I_am_AA_PET 0.5</td>\n      <td>32.69</td>\n      <td>0</td>\n      <td>112.20</td>\n      <td>[129.74, 26.43, 38.94, 30660.52]</td>\n    </tr>\n  </tbody>\n</table>\n</div>"
     },
     "execution_count": 61,
     "metadata": {},
     "output_type": "execute_result"
    }
   ],
   "source": [
    "df_results_CI = pd.DataFrame(results_CI)\n",
    "df_results_CI"
   ],
   "metadata": {
    "collapsed": false,
    "ExecuteTime": {
     "end_time": "2025-06-02T19:17:06.565596100Z",
     "start_time": "2025-06-02T19:17:06.554635300Z"
    }
   },
   "id": "ce92dcba74d18cfb",
   "execution_count": 61
  },
  {
   "cell_type": "code",
   "outputs": [],
   "source": [],
   "metadata": {
    "collapsed": false
   },
   "id": "84e5f42029886582"
  },
  {
   "cell_type": "code",
   "outputs": [],
   "source": [],
   "metadata": {
    "collapsed": false
   },
   "id": "510b67c209d1df71"
  },
  {
   "cell_type": "code",
   "outputs": [],
   "source": [],
   "metadata": {
    "collapsed": false
   },
   "id": "b8fd9a7bb8cb814"
  }
 ],
 "metadata": {
  "kernelspec": {
   "display_name": "Python 3",
   "language": "python",
   "name": "python3"
  },
  "language_info": {
   "codemirror_mode": {
    "name": "ipython",
    "version": 2
   },
   "file_extension": ".py",
   "mimetype": "text/x-python",
   "name": "python",
   "nbconvert_exporter": "python",
   "pygments_lexer": "ipython2",
   "version": "2.7.6"
  }
 },
 "nbformat": 4,
 "nbformat_minor": 5
}
